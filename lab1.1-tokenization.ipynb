{
 "cells": [
  {
   "cell_type": "code",
   "execution_count": 3,
   "metadata": {},
   "outputs": [
    {
     "name": "stdout",
     "output_type": "stream",
     "text": [
      "['All work and no play makes jack dull boy.', 'All work and no play makes jack a dull boy.']\n"
     ]
    }
   ],
   "source": [
    "# install nltk if you're not using virtual environment: \n",
    "# !pip install nltk\n",
    "from nltk.tokenize import sent_tokenize\n",
    "text = \"All work and no play makes jack dull boy. \\\n",
    "All work and no play makes jack a dull boy.\"\n",
    "print(sent_tokenize(text))"
   ]
  },
  {
   "cell_type": "code",
   "execution_count": 1,
   "metadata": {},
   "outputs": [],
   "source": [
    "sentence = 'Sunil tweeted at U.S.A., \"Witnessing 70th \\\n",
    "Republic Day of India from Rajpath, \\\n",
    "New Delhi. Mesmerizing performance by Indian Army! \\\n",
    "Exciting to see the state-of-the-art weapons! \\\n",
    "Awesome airshow! @india_official \\\n",
    "@indian_army #India #70thRepublic_Day. \\\n",
    "For more photos ping me at e-mail email sunil@photoking.com :)'"
   ]
  },
  {
   "cell_type": "code",
   "execution_count": 2,
   "metadata": {},
   "outputs": [
    {
     "name": "stdout",
     "output_type": "stream",
     "text": [
      "['Sunil', 'tweeted', 'at', 'U.S.A.,', '\"Witnessing', '70th', 'Republic', 'Day', 'of', 'India', 'from', 'Rajpath,', 'New', 'Delhi.', 'Mesmerizing', 'performance', 'by', 'Indian', 'Army!', 'Exciting', 'to', 'see', 'the', 'state-of-the-art', 'weapons!', 'Awesome', 'airshow!', '@india_official', '@indian_army', '#India', '#70thRepublic_Day.', 'For', 'more', 'photos', 'ping', 'me', 'at', 'e-mail', 'email', 'sunil@photoking.com', ':)']\n"
     ]
    }
   ],
   "source": [
    "# simplest tokenization: just split words by whitespaces\n",
    "print(sentence.split())"
   ]
  },
  {
   "cell_type": "code",
   "execution_count": 7,
   "metadata": {},
   "outputs": [
    {
     "name": "stdout",
     "output_type": "stream",
     "text": [
      "['Sunil', 'tweeted', 'at', 'U.S.A.', ',', '``', 'Witnessing', '70th', 'Republic', 'Day', 'of', 'India', 'from', 'Rajpath', ',', 'New', 'Delhi', '.', 'Mesmerizing', 'performance', 'by', 'Indian', 'Army', '!', 'Exciting', 'to', 'see', 'the', 'state-of-the-art', 'weapons', '!', 'Awesome', 'airshow', '!', '@', 'india_official', '@', 'indian_army', '#', 'India', '#', '70thRepublic_Day', '.', 'For', 'more', 'photos', 'ping', 'me', 'at', 'e-mail', 'email', 'sunil', '@', 'photoking.com', ':', ')']\n"
     ]
    }
   ],
   "source": [
    "# using nltk's tokenizer\n",
    "from nltk.tokenize import word_tokenize\n",
    "words = word_tokenize(sentence)\n",
    "print(words)"
   ]
  },
  {
   "cell_type": "code",
   "execution_count": 8,
   "metadata": {},
   "outputs": [
    {
     "name": "stdout",
     "output_type": "stream",
     "text": [
      "['Sunil', 'tweeted', 'at', 'U', '.', 'S', '.', 'A', '.', ',', '\"', 'Witnessing', '70th', 'Republic', 'Day', 'of', 'India', 'from', 'Rajpath', ',', 'New', 'Delhi', '.', 'Mesmerizing', 'performance', 'by', 'Indian', 'Army', '!', 'Exciting', 'to', 'see', 'the', 'state-of-the-art', 'weapons', '!', 'Awesome', 'airshow', '!', '@india_official', '@indian_army', '#India', '#70thRepublic_Day', '.', 'For', 'more', 'photos', 'ping', 'me', 'at', 'e-mail', 'email', 'sunil@photoking.com', ':)']\n"
     ]
    }
   ],
   "source": [
    "from nltk.tokenize import TweetTokenizer\n",
    "print(TweetTokenizer().tokenize(sentence))"
   ]
  },
  {
   "cell_type": "code",
   "execution_count": null,
   "metadata": {},
   "outputs": [],
   "source": []
  },
  {
   "cell_type": "code",
   "execution_count": 9,
   "metadata": {},
   "outputs": [
    {
     "name": "stdout",
     "output_type": "stream",
     "text": [
      "['Sunil', 'tweeted', 'at', 'U.S.A', 'Witnessing', '70th', 'Republic', 'Day', 'of', 'India', 'from', 'Rajpath', 'New', 'Delhi', 'Mesmerizing', 'performance', 'by', 'Indian', 'Army', 'Exciting', 'to', 'see', 'the', 'state-of-the-art', 'weapons', 'Awesome', 'airshow', 'india_official', 'indian_army', 'India', '70thRepublic_Day', 'For', 'more', 'photos', 'ping', 'me', 'at', 'e-mail', 'email', 'sunil', 'photoking.com']\n"
     ]
    }
   ],
   "source": [
    "# using textblob's tokenizer\n",
    "from textblob import TextBlob\n",
    "blob = TextBlob(sentence)\n",
    "print(blob.words)"
   ]
  },
  {
   "cell_type": "code",
   "execution_count": 10,
   "metadata": {},
   "outputs": [
    {
     "name": "stdout",
     "output_type": "stream",
     "text": [
      "[Sunil, tweeted, at, U.S.A., ,, \", Witnessing, 70th, Republic, Day, of, India, from, Rajpath, ,, New, Delhi, ., Mesmerizing, performance, by, Indian, Army, !, Exciting, to, see, the, state, -, of, -, the, -, art, weapons, !, Awesome, airshow, !, @india_official, @indian_army, #, India, #, 70thRepublic_Day, ., For, more, photos, ping, me, at, e, -, mail, email, sunil@photoking.com, :)]\n"
     ]
    }
   ],
   "source": [
    "# using spacy's tokenizer\n",
    "import spacy\n",
    "nlp = spacy.load('en')\n",
    "doc = nlp(sentence)\n",
    "print([ww for ww in doc])"
   ]
  },
  {
   "cell_type": "markdown",
   "metadata": {},
   "source": [
    "There exist many other tokenizers, but there's no clear winner. Use the one most meeting your requirements!\n",
    "* **MWE tokenizer**: MWE stands for Multi-Word Expression. Here, certain groups of multiple words are treated as one entity during tokenization, such as \"United States of America,\" \"People's Republic of China,\" \"not only\", etc.\n",
    "* **Regular expression tokenizer**: These tokenizers are developed using regular expressions. Sentences are split based on the occurrence of a particular pattern.\n",
    "* **Word Punkt tokenizer**: This splits a text into a list of alphabetical characters, digits, and non-alphabetical characters."
   ]
  },
  {
   "cell_type": "code",
   "execution_count": 11,
   "metadata": {},
   "outputs": [
    {
     "name": "stdout",
     "output_type": "stream",
     "text": [
      "['Sunil', 'tweeted', 'at', 'U.S.A.,', '\"Witnessing', '70th', 'Republic_Day', 'of', 'India', 'from', 'Rajpath,', 'New', 'Delhi.', 'Mesmerizing', 'performance', 'by', 'Indian', 'Army!', 'Exciting', 'to', 'see', 'the', 'state-of-the-art', 'weapons!', 'Awesome', 'airshow!', '@india_official', '@indian_army', '#India', '#70thRepublic_Day.', 'For', 'more', 'photos', 'ping', 'me', 'at', 'e-mail', 'email', 'sunil@photoking.com', ':)']\n"
     ]
    }
   ],
   "source": [
    "from nltk.tokenize import MWETokenizer\n",
    "mwe_tokenizer = MWETokenizer([('Republic', 'Day')])\n",
    "mwe_tokenizer.add_mwe(('Indian', 'Army'))\n",
    "print(mwe_tokenizer.tokenize(sentence.split()))\n",
    "# note that 'Indian Army' should be treated as one word, but fails. Why? How to fix it?"
   ]
  },
  {
   "cell_type": "code",
   "execution_count": 12,
   "metadata": {},
   "outputs": [
    {
     "name": "stdout",
     "output_type": "stream",
     "text": [
      "['Sunil', 'tweeted', 'at', 'U', '.', 'S', '.', 'A', '.,', '\"', 'Witnessing', '70th', 'Republic', 'Day', 'of', 'India', 'from', 'Rajpath', ',', 'New', 'Delhi', '.', 'Mesmerizing', 'performance', 'by', 'Indian', 'Army', '!', 'Exciting', 'to', 'see', 'the', 'state', '-', 'of', '-', 'the', '-', 'art', 'weapons', '!', 'Awesome', 'airshow', '!', '@', 'india_official', '@', 'indian_army', '#', 'India', '#', '70thRepublic_Day', '.', 'For', 'more', 'photos', 'ping', 'me', 'at', 'e', '-', 'mail', 'email', 'sunil', '@', 'photoking', '.', 'com', ':)']\n"
     ]
    }
   ],
   "source": [
    "from nltk.tokenize import WordPunctTokenizer\n",
    "wp_tokenizer = WordPunctTokenizer()\n",
    "print(wp_tokenizer.tokenize(sentence))\n",
    "# again, abbreviations (USA) are not handled appropriately"
   ]
  },
  {
   "cell_type": "code",
   "execution_count": 13,
   "metadata": {},
   "outputs": [
    {
     "name": "stdout",
     "output_type": "stream",
     "text": [
      "['Sunil', 'tweeted', 'at', 'U', 'S', 'A', 'Witnessing', '70th', 'Republic', 'Day', 'of', 'India', 'from', 'Rajpath', 'New', 'Delhi', 'Mesmerizing', 'performance', 'by', 'Indian', 'Army', 'Exciting', 'to', 'see', 'the', 'state', 'of', 'the', 'art', 'weapons', 'Awesome', 'airshow', 'india_official', 'indian_army', 'India', '70thRepublic_Day', 'For', 'more', 'photos', 'ping', 'me', 'at', 'e', 'mail', 'email', 'sunil', 'photoking', 'com']\n"
     ]
    }
   ],
   "source": [
    "# regex tokenizer\n",
    "# mistakes/undesirable splits: USA, e-mail\n",
    "# pro: you can write your own regex to define the rule to tokenize\n",
    "from nltk import regexp_tokenize\n",
    "pattern = r'''([A-Z]\\.)+\n",
    "| \\w+(-\\w+)*\n",
    "| \\$?\\d+(\\.\\d+)?\\%?\n",
    "| \\.\\.\\.  \n",
    "| [][.,'\"?():-_`]\n",
    "'''\n",
    "print(regexp_tokenize(sentence,r'\\w+'))"
   ]
  },
  {
   "cell_type": "code",
   "execution_count": null,
   "metadata": {},
   "outputs": [],
   "source": []
  }
 ],
 "metadata": {
  "kernelspec": {
   "display_name": "Python 3",
   "language": "python",
   "name": "python3"
  },
  "language_info": {
   "codemirror_mode": {
    "name": "ipython",
    "version": 3
   },
   "file_extension": ".py",
   "mimetype": "text/x-python",
   "name": "python",
   "nbconvert_exporter": "python",
   "pygments_lexer": "ipython3",
   "version": "3.8.5"
  }
 },
 "nbformat": 4,
 "nbformat_minor": 2
}
