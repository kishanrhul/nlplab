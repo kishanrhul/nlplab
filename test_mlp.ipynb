{
 "cells": [
  {
   "cell_type": "markdown",
   "metadata": {},
   "source": [
    "# Sample Code for Testing Saved Model\n",
    "This file provides a sample to test the saved model. Make necessary changes so that we can test your MLP model with this file. "
   ]
  },
  {
   "cell_type": "markdown",
   "metadata": {},
   "source": [
    "## Load test data\n",
    "In the sample below, it loads the dev set for testing. But in real marking, the markers will load held-out test set."
   ]
  },
  {
   "cell_type": "code",
   "execution_count": 1,
   "metadata": {},
   "outputs": [
    {
     "data": {
      "text/html": [
       "<div>\n",
       "<style scoped>\n",
       "    .dataframe tbody tr th:only-of-type {\n",
       "        vertical-align: middle;\n",
       "    }\n",
       "\n",
       "    .dataframe tbody tr th {\n",
       "        vertical-align: top;\n",
       "    }\n",
       "\n",
       "    .dataframe thead th {\n",
       "        text-align: right;\n",
       "    }\n",
       "</style>\n",
       "<table border=\"1\" class=\"dataframe\">\n",
       "  <thead>\n",
       "    <tr style=\"text-align: right;\">\n",
       "      <th></th>\n",
       "      <th>Unnamed: 0</th>\n",
       "      <th>Sent1</th>\n",
       "      <th>Sent2</th>\n",
       "      <th>SimScore</th>\n",
       "    </tr>\n",
       "  </thead>\n",
       "  <tbody>\n",
       "    <tr>\n",
       "      <th>0</th>\n",
       "      <td>0</td>\n",
       "      <td>A man with a hard hat is dancing.</td>\n",
       "      <td>A man wearing a hard hat is dancing.</td>\n",
       "      <td>1.00</td>\n",
       "    </tr>\n",
       "    <tr>\n",
       "      <th>1</th>\n",
       "      <td>1</td>\n",
       "      <td>A young child is riding a horse.</td>\n",
       "      <td>A child is riding a horse.</td>\n",
       "      <td>0.95</td>\n",
       "    </tr>\n",
       "    <tr>\n",
       "      <th>2</th>\n",
       "      <td>2</td>\n",
       "      <td>A man is feeding a mouse to a snake.</td>\n",
       "      <td>The man is feeding a mouse to the snake.</td>\n",
       "      <td>1.00</td>\n",
       "    </tr>\n",
       "    <tr>\n",
       "      <th>3</th>\n",
       "      <td>3</td>\n",
       "      <td>A woman is playing the guitar.</td>\n",
       "      <td>A man is playing guitar.</td>\n",
       "      <td>0.48</td>\n",
       "    </tr>\n",
       "    <tr>\n",
       "      <th>4</th>\n",
       "      <td>4</td>\n",
       "      <td>A woman is playing the flute.</td>\n",
       "      <td>A man is playing a flute.</td>\n",
       "      <td>0.55</td>\n",
       "    </tr>\n",
       "    <tr>\n",
       "      <th>...</th>\n",
       "      <td>...</td>\n",
       "      <td>...</td>\n",
       "      <td>...</td>\n",
       "      <td>...</td>\n",
       "    </tr>\n",
       "    <tr>\n",
       "      <th>2995</th>\n",
       "      <td>2995</td>\n",
       "      <td>The professor introduced the artists , and the...</td>\n",
       "      <td>The professor introduced the artists .</td>\n",
       "      <td>0.62</td>\n",
       "    </tr>\n",
       "    <tr>\n",
       "      <th>2996</th>\n",
       "      <td>2996</td>\n",
       "      <td>The doctors supported the judges .</td>\n",
       "      <td>The doctors supported the tourists and the jud...</td>\n",
       "      <td>0.68</td>\n",
       "    </tr>\n",
       "    <tr>\n",
       "      <th>2997</th>\n",
       "      <td>2997</td>\n",
       "      <td>The secretary knew the manager .</td>\n",
       "      <td>The secretary knew the manager danced .</td>\n",
       "      <td>0.37</td>\n",
       "    </tr>\n",
       "    <tr>\n",
       "      <th>2998</th>\n",
       "      <td>2998</td>\n",
       "      <td>The professors next to the president recommend...</td>\n",
       "      <td>The president recommended the professors .</td>\n",
       "      <td>0.29</td>\n",
       "    </tr>\n",
       "    <tr>\n",
       "      <th>2999</th>\n",
       "      <td>2999</td>\n",
       "      <td>The authors believed that the managers danced .</td>\n",
       "      <td>The managers danced .</td>\n",
       "      <td>0.43</td>\n",
       "    </tr>\n",
       "  </tbody>\n",
       "</table>\n",
       "<p>3000 rows × 4 columns</p>\n",
       "</div>"
      ],
      "text/plain": [
       "      Unnamed: 0                                              Sent1  \\\n",
       "0              0                  A man with a hard hat is dancing.   \n",
       "1              1                   A young child is riding a horse.   \n",
       "2              2               A man is feeding a mouse to a snake.   \n",
       "3              3                     A woman is playing the guitar.   \n",
       "4              4                      A woman is playing the flute.   \n",
       "...          ...                                                ...   \n",
       "2995        2995  The professor introduced the artists , and the...   \n",
       "2996        2996                 The doctors supported the judges .   \n",
       "2997        2997                   The secretary knew the manager .   \n",
       "2998        2998  The professors next to the president recommend...   \n",
       "2999        2999    The authors believed that the managers danced .   \n",
       "\n",
       "                                                  Sent2  SimScore  \n",
       "0                  A man wearing a hard hat is dancing.      1.00  \n",
       "1                            A child is riding a horse.      0.95  \n",
       "2              The man is feeding a mouse to the snake.      1.00  \n",
       "3                              A man is playing guitar.      0.48  \n",
       "4                             A man is playing a flute.      0.55  \n",
       "...                                                 ...       ...  \n",
       "2995             The professor introduced the artists .      0.62  \n",
       "2996  The doctors supported the tourists and the jud...      0.68  \n",
       "2997            The secretary knew the manager danced .      0.37  \n",
       "2998         The president recommended the professors .      0.29  \n",
       "2999                              The managers danced .      0.43  \n",
       "\n",
       "[3000 rows x 4 columns]"
      ]
     },
     "execution_count": 1,
     "metadata": {},
     "output_type": "execute_result"
    }
   ],
   "source": [
    "# read data\n",
    "import pandas as pd\n",
    "\n",
    "dev_data = pd.read_csv('cw2_dev.csv')\n",
    "dev_data"
   ]
  },
  {
   "cell_type": "markdown",
   "metadata": {},
   "source": [
    "## Load Embeddings\n",
    "Clearly specify the embeddings your implementation requires. Also provide the link for downloading the embeddings. "
   ]
  },
  {
   "cell_type": "code",
   "execution_count": 2,
   "metadata": {},
   "outputs": [],
   "source": [
    "# load pre-trained glove embeddings\n",
    "from gensim.test.utils import datapath, get_tmpfile\n",
    "from gensim.models import KeyedVectors\n",
    "from gensim.scripts.glove2word2vec import glove2word2vec\n",
    "import numpy as np\n",
    "\n",
    "embd_name = 'glove.6B.300d'\n",
    "link_to_embd = None # TODO: you should provide the link to download the embedding here\n",
    "\n",
    "# Below is a sample to load the glove embeddings. ADJUST the code according to the\n",
    "# embedding you want to use. \n",
    "word_vec_dim = 300\n",
    "path_of_downloaded_files = \"/Users/yg211/Embeddings/Glove/glove.6B.{}d.txt\".format(word_vec_dim)\n",
    "glove_file = datapath(path_of_downloaded_files)\n",
    "word2vec_glove_file = get_tmpfile(\"glove.6B.300d.txt\")\n",
    "glove2word2vec(glove_file, word2vec_glove_file)\n",
    "word_vectors = KeyedVectors.load_word2vec_format(word2vec_glove_file)\n",
    "\n"
   ]
  },
  {
   "cell_type": "markdown",
   "metadata": {},
   "source": [
    "## Provide Functions Needed for Evaluation\n",
    "All functions used to run and evaluate your model should be provided. "
   ]
  },
  {
   "cell_type": "code",
   "execution_count": 3,
   "metadata": {},
   "outputs": [],
   "source": [
    "import matplotlib.pyplot as plt\n",
    "from tqdm.notebook import tqdm\n",
    "\n",
    "def get_sent_word_vecs(word_vectors, sent_words):\n",
    "    vecs = []\n",
    "    for ww in sent_words:\n",
    "        if ww in word_vectors:\n",
    "            vecs.append(word_vectors[ww])\n",
    "        else:\n",
    "            vecs.append(oov_vec)\n",
    "    return np.array(vecs)\n",
    "\n",
    "def evaluate_trained_model(trained_model, dev_data):\n",
    "    pred_scores = []\n",
    "    true_scores = []\n",
    "    cos_sim = nn.CosineSimilarity()\n",
    "    with torch.no_grad(): # let pytorch know that no gradient should be computed\n",
    "        model.eval()\n",
    "        for i, entry in tqdm(dev_data.iterrows()):\n",
    "            sent1 = entry['Sent1']\n",
    "            sent2 = entry['Sent2']\n",
    "            gold_score = entry['SimScore']\n",
    "            sent1_embds = get_sent_word_vecs(word_vectors, sent1.split())\n",
    "            sent2_embds = get_sent_word_vecs(word_vectors, sent2.split())\n",
    "            sent1_repr, sent2_repr = trained_model(sent1_embds, sent2_embds)\n",
    "            pred_sim = cos_sim(sent1_repr, sent2_repr)\n",
    "        \n",
    "            pred_scores.append(pred_sim)\n",
    "            true_scores.append(gold_score)\n",
    "\n",
    "    assert len(true_scores) == len(pred_scores)\n",
    "    squared_errors = [np.square(ts-ps) for (ts, ps) in zip(true_scores, pred_scores)]\n",
    "    print('MSE of the method on the dev set:', np.mean(squared_errors))\n",
    "\n",
    "    # check the distribution (histo gram) of the squared errors\n",
    "    plt.hist(squared_errors)"
   ]
  },
  {
   "cell_type": "markdown",
   "metadata": {},
   "source": [
    "## Provide Your Model\n",
    "You should provide the implementaiton of your encoder model below."
   ]
  },
  {
   "cell_type": "code",
   "execution_count": 4,
   "metadata": {},
   "outputs": [],
   "source": [
    "# define the baseline model\n",
    "import numpy as np\n",
    "import torch\n",
    "import torch.nn as nn\n",
    "\n",
    "class BaselineModel(nn.Module):\n",
    "    def __init__(self, embd_dim):\n",
    "        super(BaselineModel, self).__init__()\n",
    "        self.relu = nn.ReLU()\n",
    "        self.fully_connected_layer = nn.Linear(embd_dim, embd_dim)\n",
    "        \n",
    "    def forward(self, sent1_vecs, sent2_vecs):\n",
    "        avg_embd1 = torch.mean(torch.FloatTensor(sent1_vecs), dim=0).unsqueeze(0)\n",
    "        avg_embd2 = torch.mean(torch.FloatTensor(sent2_vecs), dim=0).unsqueeze(0)\n",
    "        sent1_repr = self.relu(self.fully_connected_layer(avg_embd1))\n",
    "        sent2_repr = self.relu(self.fully_connected_layer(avg_embd2))\n",
    "        \n",
    "        return sent1_repr, sent2_repr"
   ]
  },
  {
   "cell_type": "markdown",
   "metadata": {},
   "source": [
    "## Run and Evaluate Model\n",
    "The code below creates an instance of the model, loads the saved weights (sample_model.state_dict; run cw2_sample.ipynb will generate this file), and tests it."
   ]
  },
  {
   "cell_type": "code",
   "execution_count": 5,
   "metadata": {},
   "outputs": [
    {
     "data": {
      "application/vnd.jupyter.widget-view+json": {
       "model_id": "deec09922d2a4bb595aa8970a5b1f22b",
       "version_major": 2,
       "version_minor": 0
      },
      "text/plain": [
       "0it [00:00, ?it/s]"
      ]
     },
     "metadata": {},
     "output_type": "display_data"
    },
    {
     "name": "stdout",
     "output_type": "stream",
     "text": [
      "MSE of the method on the dev set: 0.09156774\n"
     ]
    },
    {
     "data": {
      "image/png": "[encoded data removed]",
      "text/plain": [
       "<Figure size 432x288 with 1 Axes>"
      ]
     },
     "metadata": {
      "needs_background": "light"
     },
     "output_type": "display_data"
    }
   ],
   "source": [
    "import pickle\n",
    "\n",
    "# load the saved file\n",
    "with open('sample_model.state_dict','rb') as ff:\n",
    "    saved_info = pickle.load(ff)\n",
    "\n",
    "# extract the information from the saved file\n",
    "oov_vec = saved_info['oov_vec']\n",
    "saved_model_state = saved_info['model_state_dict']\n",
    "\n",
    "# create model, load saved weights, and test the model\n",
    "model = BaselineModel(embd_dim=word_vec_dim)\n",
    "model.load_state_dict(saved_model_state) \n",
    "evaluate_trained_model(model, dev_data)\n"
   ]
  },
  {
   "cell_type": "code",
   "execution_count": null,
   "metadata": {},
   "outputs": [],
   "source": []
  }
 ],
 "metadata": {
  "kernelspec": {
   "display_name": "venv_nlp",
   "language": "python",
   "name": "venv_nlp"
  },
  "language_info": {
   "codemirror_mode": {
    "name": "ipython",
    "version": 3
   },
   "file_extension": ".py",
   "mimetype": "text/x-python",
   "name": "python",
   "nbconvert_exporter": "python",
   "pygments_lexer": "ipython3",
   "version": "3.7.7"
  }
 },
 "nbformat": 4,
 "nbformat_minor": 4
}
