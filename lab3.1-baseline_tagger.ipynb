{
 "cells": [
  {
   "cell_type": "markdown",
   "metadata": {},
   "source": [
    "# Baseline POS Tagger\n",
    "In the lecture, we have introduced a baseline strategy for POS tagging: label each word with its most frequently used POS tag. In this exercise, we will implement this idea, by using the POS tags provided in NLTK Brown corpus."
   ]
  },
  {
   "cell_type": "code",
   "execution_count": 1,
   "metadata": {},
   "outputs": [
    {
     "name": "stdout",
     "output_type": "stream",
     "text": [
      "1161192\n",
      "[('The', 'AT'), ('Fulton', 'NP-TL'), ('County', 'NN-TL'), ('Grand', 'JJ-TL'), ('Jury', 'NN-TL'), ('said', 'VBD'), ('Friday', 'NR'), ('an', 'AT'), ('investigation', 'NN'), ('of', 'IN'), (\"Atlanta's\", 'NP$'), ('recent', 'JJ'), ('primary', 'NN'), ('election', 'NN'), ('produced', 'VBD'), ('``', '``'), ('no', 'AT'), ('evidence', 'NN'), (\"''\", \"''\"), ('that', 'CS')]\n"
     ]
    }
   ],
   "source": [
    "# get the pos tag dataset\n",
    "import nltk\n",
    "tw = nltk.corpus.brown.tagged_words()\n",
    "print(len(tw))\n",
    "print(tw[:20])"
   ]
  },
  {
   "cell_type": "markdown",
   "metadata": {},
   "source": [
    "## Step 1: Find the most frequent POS tag for each word\n",
    "Use a proportion of the dataset as training set to find the most frequent POS tag for words therein."
   ]
  },
  {
   "cell_type": "code",
   "execution_count": null,
   "metadata": {},
   "outputs": [],
   "source": [
    "train_idx = int(0.8*len(tw))\n",
    "training_set = tw[:train_idx]\n",
    "test_set = tw[train_idx:]\n",
    "\n",
    "# add your code here (you may consider using ConditionalFreqDist to find the most frequent POS tags)\n"
   ]
  },
  {
   "cell_type": "markdown",
   "metadata": {},
   "source": [
    "# Step 2: Test the performance of the POS tagger\n",
    "Use the rest of the dataset for testing."
   ]
  },
  {
   "cell_type": "code",
   "execution_count": null,
   "metadata": {},
   "outputs": [],
   "source": [
    "# this function computes the accuracy of the predicted POS tags against the true POS tags.\n",
    "def get_acc(pred_tags, true_tags):\n",
    "    assert len(pred_tags) == len(true_tags)\n",
    "    correct_cnt = 0\n",
    "    for i in range(len(pred_tags)):\n",
    "        if pred_tags[i] == true_tags[i]:\n",
    "            correct_cnt += 1\n",
    "    return correct_cnt*1./len(pred_tags)\n",
    "\n",
    "true_tags = []\n",
    "pred_tags = []\n",
    "for entry in tw[train_idx:]:\n",
    "    if len(entry) < 2: continue \n",
    "    if is_unknown_word(entry[0], model): continue # if the word (i.e. entry[0]) does not exist in your POS-tagger model, skip it; define function 'is_unknown_word' by yourself\n",
    "    tag = model(entry[0]) # predict the POS tag using your model\n",
    "    pred_tags.append(tag)\n",
    "    true_tags.append(entry[1])\n",
    "\n",
    "print(get_acc(pred_tags, true_tags))"
   ]
  }
 ],
 "metadata": {
  "kernelspec": {
   "display_name": "venv_nlp",
   "language": "python",
   "name": "venv_nlp"
  },
  "language_info": {
   "codemirror_mode": {
    "name": "ipython",
    "version": 3
   },
   "file_extension": ".py",
   "mimetype": "text/x-python",
   "name": "python",
   "nbconvert_exporter": "python",
   "pygments_lexer": "ipython3",
   "version": "3.7.7"
  }
 },
 "nbformat": 4,
 "nbformat_minor": 2
}
