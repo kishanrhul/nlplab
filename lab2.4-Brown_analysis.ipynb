{
 "cells": [
  {
   "cell_type": "markdown",
   "metadata": {},
   "source": [
    "# Word-level analysis on the Brown corpus\n",
    "The Brown corpus includes text from different genres, e.g. *news*, *review*, *government*, etc., hence allowing us to study systematic differences between genres. Below we are going to perform some analyses over texts in the Brown corpus."
   ]
  },
  {
   "cell_type": "markdown",
   "metadata": {},
   "source": [
    "## Task 1: Lexical diversity of different genres\n",
    "Compute and compare the lexical diversity (i.e. type-token ratio) of different genres, and rank the genres by their lexical diversities. "
   ]
  },
  {
   "cell_type": "markdown",
   "metadata": {},
   "source": [
    "## Task 2: Find the top types\n",
    "Find the most frequently used types (i.e. top types) in each genre, and check whether different genres share some common top types. You may use the FreqDist method from nltk (refer to the slides). In addition, find the top non-stopword types in each genre."
   ]
  },
  {
   "cell_type": "markdown",
   "metadata": {},
   "source": [
    "## Task 3: Modal word analysis\n",
    "Try the code for analyzing the use of modal words across different genres (see the lecture notes), to print the table and the figure. In addition to that, perform the analysis on other types of words (e.g. article words, or some non-stopwords that appear in all genres)."
   ]
  },
  {
   "cell_type": "markdown",
   "metadata": {},
   "source": [
    "## Task 4: Check the validity of the '80/20 rule'\n",
    "The Pareto principle (also known as the 80/20 rule, the law of the vital few, or the principle of factor sparsity) is widely appliable. It states that, for many events, roughly 80% of the effects come from 20% of the causes. In text analysis, it may suggest that 80% tokens are from 20% types. Here let's check whether this is true.\n",
    "\n",
    "To be more specific, you may follow the steps below.\n",
    "* First, select a genre and count the frequency of different *types* in that genre. \n",
    "* Then you may check, by selecting the top-N% types, how many percentage (we denote it as M) of tokens are covered. For example, suppose we have a genre that includes 100 tokens and has word 'the' as the most frequent type, which appears 10 times; then we can say that word 'the' accounts for (or *covers*) 10% (10 out of 100) of the tokens. \n",
    "* You may plot a figure, which has N (the % of top types) as the x-axis and M (the % of tokens covered) as the y-axis. If, on this figure, the value of M is around 80 when N is around 20, it means the 80/20 rule is true for the selected genre.\n",
    "\n",
    "You may repeat the steps above on multiple genres to check whether the 80/20 rule is widely applicable across different genres.\n",
    "\n"
   ]
  },
  {
   "cell_type": "markdown",
   "metadata": {},
   "source": [
    "## Task 5: Top n-grams\n",
    "Repeat task 2 and 4 on n-gram level. For example, similar to task 2, find the top n-grams in each genre; similar to task 4, check whether the 20% most frequent n-grams cover 80% of all n-grams. You may let n be 2 or 3."
   ]
  }
 ],
 "metadata": {
  "kernelspec": {
   "display_name": "venv_nlp",
   "language": "python",
   "name": "venv_nlp"
  },
  "language_info": {
   "codemirror_mode": {
    "name": "ipython",
    "version": 3
   },
   "file_extension": ".py",
   "mimetype": "text/x-python",
   "name": "python",
   "nbconvert_exporter": "python",
   "pygments_lexer": "ipython3",
   "version": "3.7.7"
  }
 },
 "nbformat": 4,
 "nbformat_minor": 2
}
