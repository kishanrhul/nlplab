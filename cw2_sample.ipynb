{
 "cells": [
  {
   "cell_type": "markdown",
   "metadata": {},
   "source": [
    "# Coursework Assignment 2: Measuring Sentence Similarity\n",
    "The purpose of this file is to help you develop your model. You **DON'T** need to submit this file. In the end, you should submit\n",
    "* A report, summarising all your findings and analyses.\n",
    "* For task 1 (MLP-based model), submit two files: **test_mlp.ipynb** which includes the impelementation, and **best_mlp.state_dict**, which is the saved MLP weights.\n",
    "* For task 2 (CNN- or RNN-based model), submit two files: **test_cnn.ipynb** (if you developed a RNN model, change cnn to rnn) which includes the impelementation, and **best_cnn.state_dict**, which is the saved CNN/RNN weights.\n",
    "* For task 3 (additional models), similarly, submit the implementation as well as the saved weights.\n"
   ]
  },
  {
   "cell_type": "markdown",
   "metadata": {},
   "source": [
    "## Load Data"
   ]
  },
  {
   "cell_type": "code",
   "execution_count": 1,
   "metadata": {},
   "outputs": [
    {
     "data": {
      "text/html": [
       "<div>\n",
       "<style scoped>\n",
       "    .dataframe tbody tr th:only-of-type {\n",
       "        vertical-align: middle;\n",
       "    }\n",
       "\n",
       "    .dataframe tbody tr th {\n",
       "        vertical-align: top;\n",
       "    }\n",
       "\n",
       "    .dataframe thead th {\n",
       "        text-align: right;\n",
       "    }\n",
       "</style>\n",
       "<table border=\"1\" class=\"dataframe\">\n",
       "  <thead>\n",
       "    <tr style=\"text-align: right;\">\n",
       "      <th></th>\n",
       "      <th>Unnamed: 0</th>\n",
       "      <th>Sent1</th>\n",
       "      <th>Sent2</th>\n",
       "      <th>SimScore</th>\n",
       "    </tr>\n",
       "  </thead>\n",
       "  <tbody>\n",
       "    <tr>\n",
       "      <th>0</th>\n",
       "      <td>0</td>\n",
       "      <td>U.S., EU Widen Sanctions On Russia</td>\n",
       "      <td>U.S., EU Boost Sanctions On Russia</td>\n",
       "      <td>1.00</td>\n",
       "    </tr>\n",
       "    <tr>\n",
       "      <th>1</th>\n",
       "      <td>1</td>\n",
       "      <td>The lawyers advised the judges .</td>\n",
       "      <td>The lawyers advised the judges behind the acto...</td>\n",
       "      <td>0.79</td>\n",
       "    </tr>\n",
       "    <tr>\n",
       "      <th>2</th>\n",
       "      <td>2</td>\n",
       "      <td>Man kills 4 in Calif. before police shoot him ...</td>\n",
       "      <td>Police: Gunman killed 6 in California shootings</td>\n",
       "      <td>0.40</td>\n",
       "    </tr>\n",
       "    <tr>\n",
       "      <th>3</th>\n",
       "      <td>3</td>\n",
       "      <td>Someone is playing a piano.</td>\n",
       "      <td>A man is playing a guitar.</td>\n",
       "      <td>0.24</td>\n",
       "    </tr>\n",
       "    <tr>\n",
       "      <th>4</th>\n",
       "      <td>4</td>\n",
       "      <td>In an E-mail statement to the Knoxville News S...</td>\n",
       "      <td>I am not giving any consideration to resignati...</td>\n",
       "      <td>0.80</td>\n",
       "    </tr>\n",
       "    <tr>\n",
       "      <th>...</th>\n",
       "      <td>...</td>\n",
       "      <td>...</td>\n",
       "      <td>...</td>\n",
       "      <td>...</td>\n",
       "    </tr>\n",
       "    <tr>\n",
       "      <th>11493</th>\n",
       "      <td>11493</td>\n",
       "      <td>A man is playing piano.</td>\n",
       "      <td>A man is laying on the ground.</td>\n",
       "      <td>0.15</td>\n",
       "    </tr>\n",
       "    <tr>\n",
       "      <th>11494</th>\n",
       "      <td>11494</td>\n",
       "      <td>The doctors resigned , or the secretaries supp...</td>\n",
       "      <td>The doctors resigned .</td>\n",
       "      <td>0.50</td>\n",
       "    </tr>\n",
       "    <tr>\n",
       "      <th>11495</th>\n",
       "      <td>11495</td>\n",
       "      <td>The artist contacted the banker .</td>\n",
       "      <td>The banker contacted the artist by the student .</td>\n",
       "      <td>0.29</td>\n",
       "    </tr>\n",
       "    <tr>\n",
       "      <th>11496</th>\n",
       "      <td>11496</td>\n",
       "      <td>While the professors arrived , the student wai...</td>\n",
       "      <td>The professors arrived .</td>\n",
       "      <td>0.61</td>\n",
       "    </tr>\n",
       "    <tr>\n",
       "      <th>11497</th>\n",
       "      <td>11497</td>\n",
       "      <td>The banker avoided the author .</td>\n",
       "      <td>The lawyer and the banker avoided the author .</td>\n",
       "      <td>0.73</td>\n",
       "    </tr>\n",
       "  </tbody>\n",
       "</table>\n",
       "<p>11498 rows × 4 columns</p>\n",
       "</div>"
      ],
      "text/plain": [
       "       Unnamed: 0                                              Sent1  \\\n",
       "0               0                 U.S., EU Widen Sanctions On Russia   \n",
       "1               1                   The lawyers advised the judges .   \n",
       "2               2  Man kills 4 in Calif. before police shoot him ...   \n",
       "3               3                        Someone is playing a piano.   \n",
       "4               4  In an E-mail statement to the Knoxville News S...   \n",
       "...           ...                                                ...   \n",
       "11493       11493                            A man is playing piano.   \n",
       "11494       11494  The doctors resigned , or the secretaries supp...   \n",
       "11495       11495                  The artist contacted the banker .   \n",
       "11496       11496  While the professors arrived , the student wai...   \n",
       "11497       11497                    The banker avoided the author .   \n",
       "\n",
       "                                                   Sent2  SimScore  \n",
       "0                     U.S., EU Boost Sanctions On Russia      1.00  \n",
       "1      The lawyers advised the judges behind the acto...      0.79  \n",
       "2        Police: Gunman killed 6 in California shootings      0.40  \n",
       "3                             A man is playing a guitar.      0.24  \n",
       "4      I am not giving any consideration to resignati...      0.80  \n",
       "...                                                  ...       ...  \n",
       "11493                     A man is laying on the ground.      0.15  \n",
       "11494                             The doctors resigned .      0.50  \n",
       "11495   The banker contacted the artist by the student .      0.29  \n",
       "11496                           The professors arrived .      0.61  \n",
       "11497     The lawyer and the banker avoided the author .      0.73  \n",
       "\n",
       "[11498 rows x 4 columns]"
      ]
     },
     "execution_count": 1,
     "metadata": {},
     "output_type": "execute_result"
    }
   ],
   "source": [
    "# read data\n",
    "import pandas as pd\n",
    "\n",
    "train_data = pd.read_csv('cw2_train.csv')\n",
    "dev_data = pd.read_csv('cw2_dev.csv')\n",
    "\n",
    "train_data"
   ]
  },
  {
   "cell_type": "markdown",
   "metadata": {},
   "source": [
    "## Load Pre-Trained Embeddings\n",
    "In the sample code below, the Glove pre-trained embedding is used. Feel free to use other embeddings if you find it appropriate."
   ]
  },
  {
   "cell_type": "code",
   "execution_count": 2,
   "metadata": {},
   "outputs": [],
   "source": [
    "# load pre-trained glove embeddings\n",
    "from gensim.test.utils import datapath, get_tmpfile\n",
    "from gensim.models import KeyedVectors\n",
    "from gensim.scripts.glove2word2vec import glove2word2vec\n",
    "import numpy as np\n",
    "\n",
    "word_vec_dim = 300\n",
    "# specify the loaction of the downloaded glove file\n",
    "path_of_downloaded_files = \"/Users/yg211/Embeddings/Glove/glove.6B.{}d.txt\".format(word_vec_dim)\n",
    "glove_file = datapath(path_of_downloaded_files)\n",
    "word2vec_glove_file = get_tmpfile(\"glove.6B.300d.txt\")\n",
    "glove2word2vec(glove_file, word2vec_glove_file)\n",
    "word_vectors = KeyedVectors.load_word2vec_format(word2vec_glove_file)\n",
    "\n",
    "oov_vec = np.random.rand(word_vec_dim)\n",
    "\n",
    "def get_sent_word_vecs(word_vectors, sent_words):\n",
    "    vecs = []\n",
    "    for ww in sent_words:\n",
    "        if ww in word_vectors:\n",
    "            vecs.append(word_vectors[ww])\n",
    "        else:\n",
    "            vecs.append(oov_vec)\n",
    "    return np.array(vecs)"
   ]
  },
  {
   "cell_type": "markdown",
   "metadata": {},
   "source": [
    "## Define the Sentence Encoder\n",
    "Below, a simple model to create vector representations for sentences is provided. It first computes the average of the words embeddings, and then passes the average embedding to a fully-connected layer and applies a non-linear activation function to generate the final vector. You should develop more advanced models!"
   ]
  },
  {
   "cell_type": "code",
   "execution_count": 3,
   "metadata": {},
   "outputs": [],
   "source": [
    "# define the baseline model\n",
    "import numpy as np\n",
    "import torch\n",
    "import torch.nn as nn\n",
    "\n",
    "class BaselineModel(nn.Module):\n",
    "    def __init__(self, embd_dim):\n",
    "        super(BaselineModel, self).__init__()\n",
    "        self.relu = nn.ReLU()\n",
    "        self.fully_connected_layer = nn.Linear(embd_dim, embd_dim)\n",
    "        \n",
    "    def forward(self, sent1_vecs, sent2_vecs):\n",
    "        avg_embd1 = torch.mean(torch.FloatTensor(sent1_vecs), dim=0).unsqueeze(0)\n",
    "        avg_embd2 = torch.mean(torch.FloatTensor(sent2_vecs), dim=0).unsqueeze(0)\n",
    "        sent1_repr = self.relu(self.fully_connected_layer(avg_embd1))\n",
    "        sent2_repr = self.relu(self.fully_connected_layer(avg_embd2))\n",
    "        \n",
    "        return sent1_repr, sent2_repr"
   ]
  },
  {
   "cell_type": "markdown",
   "metadata": {},
   "source": [
    "## Training Pipeline\n",
    "The function *train_model* below provides a general pipeline for training the sentence encoder model. You could re-use it for training the model you have developed."
   ]
  },
  {
   "cell_type": "code",
   "execution_count": 4,
   "metadata": {},
   "outputs": [],
   "source": [
    "from tqdm.notebook import tqdm\n",
    "\n",
    "def train_model(train_data, n_epochs, lr, optimizer, loss_fnc, model):\n",
    "    cos_sim = nn.CosineSimilarity()\n",
    "    for epoch_i in tqdm(range(n_epochs)):\n",
    "        ep_loss = []\n",
    "        cnt = 0\n",
    "        for i, entry in tqdm(train_data.sample(frac=1).iterrows()):\n",
    "            cnt += 1\n",
    "            sent1 = entry['Sent1']\n",
    "            sent2 = entry['Sent2']\n",
    "            sent1_embds = get_sent_word_vecs(word_vectors, sent1.split())\n",
    "            sent2_embds = get_sent_word_vecs(word_vectors, sent2.split())\n",
    "\n",
    "            # Step 1: Clear the gradients \n",
    "            optimizer.zero_grad()\n",
    "\n",
    "            # Step 2: Compute the forward pass of the model\n",
    "            sent1_repr, sent2_repr = model(sent1_embds, sent2_embds)\n",
    "            pred_sim = cos_sim(sent1_repr, sent2_repr)\n",
    "            true_sim = torch.FloatTensor([entry['SimScore']])\n",
    "\n",
    "            # Step 3: Compute the loss value that we wish to optimize\n",
    "            loss = loss_fnc(pred_sim, true_sim)\n",
    "            ep_loss.append(loss.detach())\n",
    "\n",
    "            # Step 4: Propagate the loss signal backward\n",
    "            loss.backward()\n",
    "\n",
    "            # Step 5: Trigger the optimizer to perform one update\n",
    "            optimizer.step()\n",
    "\n",
    "            if  cnt%1000 == 0:\n",
    "                print('epoch {}, avg loss until step {}: {}'.format(epoch_i, cnt, np.mean(ep_loss)))\n",
    "\n",
    "        print('\\n======epoch {} loss======'.format(epoch_i),np.mean(ep_loss))\n",
    "        "
   ]
  },
  {
   "cell_type": "markdown",
   "metadata": {},
   "source": [
    "## Provide Hyper-Parameters and Start the Training\n",
    "The hyper-parameters and optimizers provided below are just some examples. You should use appropriate strategy to find the hyper-parameters that you want to use!"
   ]
  },
  {
   "cell_type": "code",
   "execution_count": 5,
   "metadata": {},
   "outputs": [
    {
     "data": {
      "application/vnd.jupyter.widget-view+json": {
       "model_id": "e0c9bc438b5c4abca4bc0c3088064d4c",
       "version_major": 2,
       "version_minor": 0
      },
      "text/plain": [
       "  0%|          | 0/2 [00:00<?, ?it/s]"
      ]
     },
     "metadata": {},
     "output_type": "display_data"
    },
    {
     "data": {
      "application/vnd.jupyter.widget-view+json": {
       "model_id": "de61026a52a14f2c92694c52a0b57153",
       "version_major": 2,
       "version_minor": 0
      },
      "text/plain": [
       "0it [00:00, ?it/s]"
      ]
     },
     "metadata": {},
     "output_type": "display_data"
    },
    {
     "name": "stdout",
     "output_type": "stream",
     "text": [
      "epoch 0, avg loss until step 1000: 0.14674831926822662\n",
      "epoch 0, avg loss until step 2000: 0.14022010564804077\n",
      "epoch 0, avg loss until step 3000: 0.13518832623958588\n",
      "epoch 0, avg loss until step 4000: 0.13421045243740082\n",
      "epoch 0, avg loss until step 5000: 0.13155771791934967\n",
      "epoch 0, avg loss until step 6000: 0.1290311962366104\n",
      "epoch 0, avg loss until step 7000: 0.1275046318769455\n",
      "epoch 0, avg loss until step 8000: 0.12645980715751648\n",
      "epoch 0, avg loss until step 9000: 0.12443555891513824\n",
      "epoch 0, avg loss until step 10000: 0.12312386184930801\n",
      "epoch 0, avg loss until step 11000: 0.12149453908205032\n",
      "\n",
      "======epoch 0 loss====== 0.120683275\n"
     ]
    },
    {
     "data": {
      "application/vnd.jupyter.widget-view+json": {
       "model_id": "08d509a392974d97ab5a5c7344131136",
       "version_major": 2,
       "version_minor": 0
      },
      "text/plain": [
       "0it [00:00, ?it/s]"
      ]
     },
     "metadata": {},
     "output_type": "display_data"
    },
    {
     "name": "stdout",
     "output_type": "stream",
     "text": [
      "epoch 1, avg loss until step 1000: 0.10665220767259598\n",
      "epoch 1, avg loss until step 2000: 0.10343792289495468\n",
      "epoch 1, avg loss until step 3000: 0.10377679765224457\n",
      "epoch 1, avg loss until step 4000: 0.10182622075080872\n",
      "epoch 1, avg loss until step 5000: 0.1004737988114357\n",
      "epoch 1, avg loss until step 6000: 0.09962590783834457\n",
      "epoch 1, avg loss until step 7000: 0.09987521171569824\n",
      "epoch 1, avg loss until step 8000: 0.09923209249973297\n",
      "epoch 1, avg loss until step 9000: 0.09845659881830215\n",
      "epoch 1, avg loss until step 10000: 0.09825022518634796\n",
      "epoch 1, avg loss until step 11000: 0.09759816527366638\n",
      "\n",
      "======epoch 1 loss====== 0.09707777\n"
     ]
    }
   ],
   "source": [
    "model = BaselineModel(word_vec_dim)\n",
    "loss_fnc = nn.MSELoss()\n",
    "\n",
    "# hyper parameters\n",
    "n_epochs = 2 \n",
    "lr = 1e-3 \n",
    "\n",
    "# init optimizer and scheduler (lr adjustor)\n",
    "import torch.optim as optim\n",
    "optimizer = optim.Adam(params=model.parameters(), lr=lr) \n",
    "\n",
    "train_model(train_data, n_epochs, lr, optimizer, loss_fnc, model)"
   ]
  },
  {
   "cell_type": "markdown",
   "metadata": {},
   "source": [
    "## Evaluate The Trained Model\n",
    "The function *evaluate_trained_model* defined below tests the performance of a trained model on the dev_set. "
   ]
  },
  {
   "cell_type": "code",
   "execution_count": 6,
   "metadata": {},
   "outputs": [],
   "source": [
    "import matplotlib.pyplot as plt\n",
    "def evaluate_trained_model(trained_model, dev_data):\n",
    "    pred_scores = []\n",
    "    true_scores = []\n",
    "    cos_sim = nn.CosineSimilarity()\n",
    "    with torch.no_grad(): # let pytorch know that no gradient should be computed\n",
    "        model.eval()\n",
    "        for i, entry in tqdm(dev_data.iterrows()):\n",
    "            sent1 = entry['Sent1']\n",
    "            sent2 = entry['Sent2']\n",
    "            gold_score = entry['SimScore']\n",
    "            sent1_embds = get_sent_word_vecs(word_vectors, sent1.split())\n",
    "            sent2_embds = get_sent_word_vecs(word_vectors, sent2.split())\n",
    "            sent1_repr, sent2_repr = trained_model(sent1_embds, sent2_embds)\n",
    "            pred_sim = cos_sim(sent1_repr, sent2_repr)\n",
    "        \n",
    "            pred_scores.append(pred_sim)\n",
    "            true_scores.append(gold_score)\n",
    "\n",
    "    assert len(true_scores) == len(pred_scores)\n",
    "    squared_errors = [np.square(ts-ps) for (ts, ps) in zip(true_scores, pred_scores)]\n",
    "    print('MSE of the method on the dev set:', np.mean(squared_errors))\n",
    "\n",
    "    # check the distribution (histo gram) of the squared errors\n",
    "    plt.hist(squared_errors)"
   ]
  },
  {
   "cell_type": "code",
   "execution_count": 7,
   "metadata": {},
   "outputs": [
    {
     "data": {
      "application/vnd.jupyter.widget-view+json": {
       "model_id": "351ffdf3a3dd4361b487e17b00ccce2b",
       "version_major": 2,
       "version_minor": 0
      },
      "text/plain": [
       "0it [00:00, ?it/s]"
      ]
     },
     "metadata": {},
     "output_type": "display_data"
    },
    {
     "name": "stdout",
     "output_type": "stream",
     "text": [
      "MSE of the method on the dev set: 0.09156774\n"
     ]
    },
    {
     "data": {
      "image/png": "[encoded data removed]",
      "text/plain": [
       "<Figure size 432x288 with 1 Axes>"
      ]
     },
     "metadata": {
      "needs_background": "light"
     },
     "output_type": "display_data"
    }
   ],
   "source": [
    "evaluate_trained_model(model, dev_data)"
   ]
  },
  {
   "cell_type": "markdown",
   "metadata": {},
   "source": [
    "## Save trained model\n",
    "The code below illustrates how to save the trained model. "
   ]
  },
  {
   "cell_type": "code",
   "execution_count": 12,
   "metadata": {},
   "outputs": [],
   "source": [
    "import pickle\n",
    "\n",
    "info_to_save = {\n",
    "    'model_state_dict': model.state_dict(),\n",
    "    'oov_vec': oov_vec\n",
    "}\n",
    "\n",
    "with open('sample_model.state_dict', 'wb') as ff:\n",
    "    pickle.dump(info_to_save, ff)"
   ]
  },
  {
   "cell_type": "code",
   "execution_count": null,
   "metadata": {},
   "outputs": [],
   "source": []
  },
  {
   "cell_type": "code",
   "execution_count": null,
   "metadata": {},
   "outputs": [],
   "source": []
  },
  {
   "cell_type": "code",
   "execution_count": null,
   "metadata": {},
   "outputs": [],
   "source": []
  },
  {
   "cell_type": "code",
   "execution_count": null,
   "metadata": {},
   "outputs": [],
   "source": []
  }
 ],
 "metadata": {
  "kernelspec": {
   "display_name": "venv_nlp",
   "language": "python",
   "name": "venv_nlp"
  },
  "language_info": {
   "codemirror_mode": {
    "name": "ipython",
    "version": 3
   },
   "file_extension": ".py",
   "mimetype": "text/x-python",
   "name": "python",
   "nbconvert_exporter": "python",
   "pygments_lexer": "ipython3",
   "version": "3.7.7"
  }
 },
 "nbformat": 4,
 "nbformat_minor": 4
}
