{
 "cells": [
  {
   "cell_type": "markdown",
   "metadata": {},
   "source": [
    "# Inaugural Address Analysis\n",
    "NLTK includes a corpus that has 58 inaugural addresses of US presidents. An important feature of this corpus is that it includes the years in which the inaugural addresses were delivered, hence allowing us to study the change of language usage over years. "
   ]
  },
  {
   "cell_type": "markdown",
   "metadata": {},
   "source": [
    "## Task 1: Find the most frequent words\n",
    "Find the most frequently used non-stopword types used by each president, and try to find patterns, for example which words are frequently used by all presidents, whether some words become increasly/decreasingly popular through years, etc."
   ]
  },
  {
   "cell_type": "markdown",
   "metadata": {},
   "source": [
    "## Task 2: Plot the frequency of certain words through years\n",
    "Plot a figure to show how the frequency of a certain type changes over years, for example how frequently words 'dream' and 'world' are used over years. The words you consider may be some of the words you found in Task 1. "
   ]
  },
  {
   "cell_type": "markdown",
   "metadata": {},
   "source": [
    "## Task 3: Is President Trump really undereducated?\n",
    "A [study](https://www.independent.co.uk/news/world/americas/us-politics/trump-language-level-speaking-skills-age-eight-year-old-vocabulary-analysis-a8149926.html) suggests that President Trump speaks at level of 8-year-old. The researchers suggest that Mr Trump’s vocabulary and grammatical structure is “significantly more simple, and less diverse” than any President since Herbert Hoover. Their evidence includes that\n",
    "* Mr Trump averaged significantly fewer syllables per word than the last 14 Presidents; and\n",
    "* Mr Trump used significantly fewer unique words\n",
    "\n",
    "Based on the NLTK Inaugural Address corpus, can you check the correctness of the above two points? Going beyond Trump, can you analyze the trend of the syllables num and unique word num over years?\n",
    "\n",
    "**PS**: Python has some libraries for counting the num of syllables in a word, e.g. [this one](https://pypi.org/project/syllables/).\n",
    "\n",
    "**PSS**: Unique word: a word that is used only by this president.\n",
    "\n"
   ]
  },
  {
   "cell_type": "markdown",
   "metadata": {},
   "source": [
    "In addition to the evidence mentioned above, some other features can be used as proxies for a speaker's competency, for example lexical diversity (aka. type-token-ratio) and average word length. Can you check the change of these two features over years?"
   ]
  },
  {
   "cell_type": "code",
   "execution_count": null,
   "metadata": {},
   "outputs": [],
   "source": []
  }
 ],
 "metadata": {
  "kernelspec": {
   "display_name": "venv_nlp",
   "language": "python",
   "name": "venv_nlp"
  },
  "language_info": {
   "codemirror_mode": {
    "name": "ipython",
    "version": 3
   },
   "file_extension": ".py",
   "mimetype": "text/x-python",
   "name": "python",
   "nbconvert_exporter": "python",
   "pygments_lexer": "ipython3",
   "version": "3.7.7"
  }
 },
 "nbformat": 4,
 "nbformat_minor": 2
}
