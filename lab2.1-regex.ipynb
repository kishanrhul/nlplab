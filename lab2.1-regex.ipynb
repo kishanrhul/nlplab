{
 "cells": [
  {
   "cell_type": "markdown",
   "metadata": {},
   "source": [
    "### Regex Exercises\n",
    "For each question below, enter a regex that matches all the positive examples but none of those in negative examples. An example question and its solution is presented below."
   ]
  },
  {
   "cell_type": "code",
   "execution_count": null,
   "metadata": {},
   "outputs": [],
   "source": [
    "# example question\n",
    "import re\n",
    "pos_examples = ['abcdefg','abcde','abcd']\n",
    "neg_examples = ['abc']\n",
    "\n",
    "# This function returns True if the pattern meets all requirements, \n",
    "# and returns False otherwise.\n",
    "# You can re-use this function below\n",
    "def check_correctness(pos_list, neg_list, pattern):\n",
    "    all_examples = pos_list + neg_list\n",
    "    found_items = [entry for entry in all_examples if re.search(pattern, entry)]\n",
    "    # print(found_items) # you could uncomment this line for debugging purpose\n",
    "    return found_items == pos_list \n",
    "\n",
    "pattern = r'abc.+'\n",
    "check_correctness(pos_examples, neg_examples, pattern)"
   ]
  },
  {
   "cell_type": "code",
   "execution_count": null,
   "metadata": {},
   "outputs": [],
   "source": [
    "# exercise 1\n",
    "pos_examples = ['abc123xyz','define \"123\"','var g = 123;']\n",
    "neg_examples = ['xij456zki','1tom2toni3','123okq,123']\n",
    "pattern = # put your pattern here\n",
    "check_correctness(pos_examples, neg_examples, pattern)"
   ]
  },
  {
   "cell_type": "code",
   "execution_count": null,
   "metadata": {},
   "outputs": [],
   "source": [
    "# exercise 2\n",
    "pos_examples = ['cat.','896.','?=\\.']\n",
    "neg_examples = ['abc1','7s9?','a b.','hello.']\n",
    "pattern = \n",
    "check_correctness(pos_examples, neg_examples, pattern)"
   ]
  },
  {
   "cell_type": "code",
   "execution_count": null,
   "metadata": {},
   "outputs": [],
   "source": [
    "# exercise 3\n",
    "pos_examples = ['can','man','fan']\n",
    "neg_examples = ['dan','ran','pan','world','cannot']\n",
    "pattern = \n",
    "check_correctness(pos_examples, neg_examples, pattern)"
   ]
  },
  {
   "cell_type": "code",
   "execution_count": null,
   "metadata": {},
   "outputs": [],
   "source": [
    "# exercise 4\n",
    "pos_examples = ['hog','bog']\n",
    "neg_examples = ['dog','boy','ooh','og?']\n",
    "pattern = \n",
    "check_correctness(pos_examples, neg_examples, pattern)"
   ]
  },
  {
   "cell_type": "code",
   "execution_count": null,
   "metadata": {},
   "outputs": [],
   "source": [
    "# exercise 5\n",
    "pos_examples = ['Ana','Bob','Cpc']\n",
    "neg_examples = ['aAx','bCy','cBB','76k','Hello']\n",
    "pattern = \n",
    "check_correctness(pos_examples, neg_examples, pattern)"
   ]
  },
  {
   "cell_type": "code",
   "execution_count": null,
   "metadata": {},
   "outputs": [],
   "source": [
    "# exercise 6\n",
    "pos_examples = ['wazzzzzup','wazzzup']\n",
    "neg_examples = ['wazup','wakup','wazdsup','wazzkp']\n",
    "pattern = \n",
    "check_correctness(pos_examples, neg_examples, pattern)"
   ]
  },
  {
   "cell_type": "code",
   "execution_count": null,
   "metadata": {},
   "outputs": [],
   "source": [
    "# exercise 7\n",
    "pos_examples = ['aaaabcc','aabbcc','?]aa74ccdx']\n",
    "neg_examples = ['a','96aacc']\n",
    "pattern = \n",
    "check_correctness(pos_examples, neg_examples,pattern)"
   ]
  },
  {
   "cell_type": "code",
   "execution_count": null,
   "metadata": {},
   "outputs": [],
   "source": [
    "# exercise 8\n",
    "pos_examples = ['1 file found.','2 files found.','No.24 File found.']\n",
    "neg_examples = ['No files found.','file 1 is found!','2 birds found?']\n",
    "pattern = \n",
    "check_correctness(pos_examples, neg_examples,pattern)"
   ]
  },
  {
   "cell_type": "code",
   "execution_count": null,
   "metadata": {},
   "outputs": [],
   "source": [
    "# exercise 9\n",
    "pos_examples = ['1.\\tabc','2.\\tabc','37.\\t\\t\\tabc']\n",
    "neg_examples = ['4.abc','1.tabc','3\\tabc']\n",
    "pattern = \n",
    "check_correctness(pos_examples, neg_examples,pattern)"
   ]
  },
  {
   "cell_type": "code",
   "execution_count": null,
   "metadata": {},
   "outputs": [],
   "source": [
    "# exercise 10\n",
    "pos_examples = ['pit','spot','spate','slap two','respite']\n",
    "neg_examples = ['pt','Pot','peat','part']\n",
    "pattern = \n",
    "check_correctness(pos_examples, neg_examples, pattern)"
   ]
  },
  {
   "cell_type": "code",
   "execution_count": null,
   "metadata": {},
   "outputs": [],
   "source": []
  }
 ],
 "metadata": {
  "kernelspec": {
   "display_name": "venv_nlp",
   "language": "python",
   "name": "venv_nlp"
  },
  "language_info": {
   "codemirror_mode": {
    "name": "ipython",
    "version": 3
   },
   "file_extension": ".py",
   "mimetype": "text/x-python",
   "name": "python",
   "nbconvert_exporter": "python",
   "pygments_lexer": "ipython3",
   "version": "3.7.7"
  }
 },
 "nbformat": 4,
 "nbformat_minor": 2
}
