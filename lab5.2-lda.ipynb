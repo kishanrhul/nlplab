{
 "cells": [
  {
   "cell_type": "code",
   "execution_count": 2,
   "metadata": {},
   "outputs": [],
   "source": [
    "import nltk #; nltk.download('stopwords')\n",
    "\n",
    "import re\n",
    "import numpy as np\n",
    "import pandas as pd\n",
    "from pprint import pprint\n",
    "\n",
    "# Gensim\n",
    "import gensim\n",
    "import gensim.corpora as corpora\n",
    "from gensim.utils import simple_preprocess\n",
    "from gensim.models import CoherenceModel\n",
    "\n",
    "# spacy for lemmatization\n",
    "import spacy\n",
    "\n",
    "# Plotting tools\n",
    "import pyLDAvis\n",
    "import pyLDAvis.gensim  # don't skip this\n",
    "import matplotlib.pyplot as plt"
   ]
  },
  {
   "cell_type": "code",
   "execution_count": 3,
   "metadata": {},
   "outputs": [
    {
     "data": {
      "text/html": [
       "<div>\n",
       "<style scoped>\n",
       "    .dataframe tbody tr th:only-of-type {\n",
       "        vertical-align: middle;\n",
       "    }\n",
       "\n",
       "    .dataframe tbody tr th {\n",
       "        vertical-align: top;\n",
       "    }\n",
       "\n",
       "    .dataframe thead th {\n",
       "        text-align: right;\n",
       "    }\n",
       "</style>\n",
       "<table border=\"1\" class=\"dataframe\">\n",
       "  <thead>\n",
       "    <tr style=\"text-align: right;\">\n",
       "      <th></th>\n",
       "      <th>text</th>\n",
       "      <th>label</th>\n",
       "    </tr>\n",
       "  </thead>\n",
       "  <tbody>\n",
       "    <tr>\n",
       "      <th>0</th>\n",
       "      <td>Tate &amp; Lyle boss bags top award\\n\\nTate &amp; Lyle...</td>\n",
       "      <td>0</td>\n",
       "    </tr>\n",
       "    <tr>\n",
       "      <th>1</th>\n",
       "      <td>Halo 2 sells five million copies\\n\\nMicrosoft ...</td>\n",
       "      <td>4</td>\n",
       "    </tr>\n",
       "    <tr>\n",
       "      <th>2</th>\n",
       "      <td>MSPs hear renewed climate warning\\n\\nClimate c...</td>\n",
       "      <td>2</td>\n",
       "    </tr>\n",
       "    <tr>\n",
       "      <th>3</th>\n",
       "      <td>Pavey focuses on indoor success\\n\\nJo Pavey wi...</td>\n",
       "      <td>3</td>\n",
       "    </tr>\n",
       "    <tr>\n",
       "      <th>4</th>\n",
       "      <td>Tories reject rethink on axed MP\\n\\nSacked MP ...</td>\n",
       "      <td>2</td>\n",
       "    </tr>\n",
       "  </tbody>\n",
       "</table>\n",
       "</div>"
      ],
      "text/plain": [
       "                                                text  label\n",
       "0  Tate & Lyle boss bags top award\\n\\nTate & Lyle...      0\n",
       "1  Halo 2 sells five million copies\\n\\nMicrosoft ...      4\n",
       "2  MSPs hear renewed climate warning\\n\\nClimate c...      2\n",
       "3  Pavey focuses on indoor success\\n\\nJo Pavey wi...      3\n",
       "4  Tories reject rethink on axed MP\\n\\nSacked MP ...      2"
      ]
     },
     "execution_count": 3,
     "metadata": {},
     "output_type": "execute_result"
    }
   ],
   "source": [
    "from sklearn.datasets import load_files\n",
    "\n",
    "# for reproducibility\n",
    "random_state = 0 \n",
    "\n",
    "DATA_DIR = \"./bbc/\"\n",
    "data = load_files(DATA_DIR, encoding=\"utf-8\", decode_error=\"replace\", random_state=random_state)\n",
    "df = pd.DataFrame(list(zip(data['data'], data['target'])), columns=['text', 'label'])\n",
    "df.head()"
   ]
  },
  {
   "cell_type": "markdown",
   "metadata": {},
   "source": [
    "## Data cleaning\n",
    "We first tokenize each sentence into a list of words, removing punctuations and unnecessary characters altogether. We will use Gensim’s simple_preprocess() for this purpose. Additionally, we set deacc=True to remove the punctuations."
   ]
  },
  {
   "cell_type": "code",
   "execution_count": 4,
   "metadata": {},
   "outputs": [
    {
     "name": "stdout",
     "output_type": "stream",
     "text": [
      "[['tate', 'lyle', 'boss', 'bags', 'top', 'award', 'tate', 'lyle', 'chief', 'executive', 'has', 'been', 'named', 'european', 'businessman', 'of', 'the', 'year', 'by', 'leading', 'business', 'magazine', 'iain', 'ferguson', 'was', 'awarded', 'the', 'title', 'by', 'us', 'publication', 'forbes', 'for', 'returning', 'one', 'of', 'the', 'uk', 'venerable', 'manufacturers', 'to', 'the', 'country', 'top', 'companies', 'the', 'sugar', 'group', 'had', 'been', 'absent', 'from', 'the', 'ftse', 'for', 'seven', 'years', 'until', 'mr', 'ferguson', 'helped', 'it', 'return', 'to', 'growth', 'tate', 'shares', 'have', 'leapt', 'this', 'year', 'boosted', 'by', 'firming', 'sugar', 'prices', 'and', 'sales', 'of', 'its', 'artificial', 'sweeteners', 'after', 'years', 'of', 'sagging', 'stock', 'price', 'and', 'seven', 'year', 'hiatus', 'from', 'the', 'ftse', 'one', 'of', 'britain', 'venerable', 'manufacturers', 'has', 'returned', 'to', 'the', 'vaunted', 'index', 'forbes', 'said', 'mr', 'ferguson', 'took', 'the', 'helm', 'at', 'the', 'company', 'in', 'after', 'spending', 'most', 'of', 'his', 'career', 'at', 'consumer', 'goods', 'giant', 'unilever', 'tate', 'lyle', 'which', 'was', 'an', 'original', 'member', 'of', 'the', 'historic', 'ft', 'index', 'in', 'operates', 'more', 'than', 'factories', 'and', 'more', 'additional', 'production', 'facilities', 'in', 'countries', 'previous', 'winners', 'of', 'the', 'forbes', 'award', 'include', 'royal', 'bank', 'of', 'scotland', 'chief', 'executive', 'fred', 'goodwin', 'and', 'former', 'vodafone', 'boss', 'chris', 'gent']]\n"
     ]
    }
   ],
   "source": [
    "def sent_to_words(sentences):\n",
    "    for sentence in sentences:\n",
    "        yield(gensim.utils.simple_preprocess(str(sentence), deacc=True))  # deacc=True removes punctuations\n",
    "\n",
    "data_words = list(sent_to_words(df.text.values))\n",
    "\n",
    "print(data_words[:1])"
   ]
  },
  {
   "cell_type": "markdown",
   "metadata": {},
   "source": [
    "Then we build bi-grams and tri-grams from the texts. Gensim’s Phrases model can build and implement the bigrams, trigrams, quadgrams and more. The two important arguments to Phrases are min_count and threshold. The higher the values of these param, the harder it is for words to be combined to bigrams."
   ]
  },
  {
   "cell_type": "code",
   "execution_count": 5,
   "metadata": {},
   "outputs": [
    {
     "name": "stdout",
     "output_type": "stream",
     "text": [
      "['tate', 'lyle', 'boss', 'bags', 'top', 'award', 'tate', 'lyle', 'chief_executive', 'has', 'been', 'named', 'european', 'businessman', 'of', 'the', 'year', 'by', 'leading', 'business', 'magazine', 'iain', 'ferguson', 'was', 'awarded', 'the', 'title', 'by', 'us', 'publication', 'forbes', 'for', 'returning', 'one', 'of', 'the', 'uk', 'venerable', 'manufacturers', 'to', 'the', 'country', 'top', 'companies', 'the', 'sugar', 'group', 'had', 'been', 'absent', 'from', 'the', 'ftse', 'for', 'seven', 'years', 'until', 'mr', 'ferguson', 'helped', 'it', 'return', 'to', 'growth', 'tate', 'shares', 'have', 'leapt', 'this', 'year', 'boosted', 'by', 'firming', 'sugar', 'prices', 'and', 'sales', 'of', 'its', 'artificial', 'sweeteners', 'after', 'years', 'of', 'sagging', 'stock', 'price', 'and', 'seven', 'year', 'hiatus', 'from', 'the', 'ftse', 'one', 'of', 'britain', 'venerable', 'manufacturers', 'has', 'returned', 'to', 'the', 'vaunted', 'index', 'forbes', 'said', 'mr', 'ferguson', 'took', 'the', 'helm', 'at', 'the', 'company', 'in', 'after', 'spending', 'most', 'of', 'his', 'career', 'at', 'consumer', 'goods', 'giant', 'unilever', 'tate', 'lyle', 'which', 'was', 'an', 'original', 'member', 'of', 'the', 'historic', 'ft', 'index', 'in', 'operates', 'more', 'than', 'factories', 'and', 'more', 'additional', 'production', 'facilities', 'in', 'countries', 'previous', 'winners', 'of', 'the', 'forbes', 'award', 'include', 'royal', 'bank', 'of', 'scotland', 'chief_executive', 'fred', 'goodwin', 'and', 'former', 'vodafone', 'boss', 'chris', 'gent']\n"
     ]
    }
   ],
   "source": [
    "# Build the bigram and trigram models\n",
    "bigram = gensim.models.Phrases(data_words, min_count=5, threshold=100) # higher threshold fewer phrases.\n",
    "trigram = gensim.models.Phrases(bigram[data_words], threshold=100)  \n",
    "\n",
    "# Faster way to get a sentence clubbed as a trigram/bigram\n",
    "bigram_mod = gensim.models.phrases.Phraser(bigram)\n",
    "trigram_mod = gensim.models.phrases.Phraser(trigram)\n",
    "\n",
    "# See trigram example\n",
    "print(trigram_mod[bigram_mod[data_words[0]]])"
   ]
  },
  {
   "cell_type": "markdown",
   "metadata": {},
   "source": [
    "The bigrams model is ready. Then we remove stopwords, lemmatize the text and extract n-grams."
   ]
  },
  {
   "cell_type": "code",
   "execution_count": 8,
   "metadata": {},
   "outputs": [],
   "source": [
    "# Define functions for stopwords, bigrams, trigrams and lemmatization\n",
    "\n",
    "# NLTK Stop words\n",
    "from nltk.corpus import stopwords\n",
    "stop_words = stopwords.words('english')\n",
    "def remove_stopwords(texts):\n",
    "    return [[word for word in simple_preprocess(str(doc)) if word not in stop_words] for doc in texts]\n",
    "\n",
    "def make_bigrams(texts):\n",
    "    return [bigram_mod[doc] for doc in texts]\n",
    "\n",
    "def make_trigrams(texts):\n",
    "    return [trigram_mod[bigram_mod[doc]] for doc in texts]\n",
    "\n",
    "def lemmatization(texts, allowed_postags=['NOUN', 'ADJ', 'VERB', 'ADV']):\n",
    "    \"\"\"https://spacy.io/api/annotation\"\"\"\n",
    "    texts_out = []\n",
    "    for sent in texts:\n",
    "        doc = nlp(\" \".join(sent)) \n",
    "        texts_out.append([token.lemma_ for token in doc if token.pos_ in allowed_postags])\n",
    "    return texts_out"
   ]
  },
  {
   "cell_type": "code",
   "execution_count": 9,
   "metadata": {},
   "outputs": [
    {
     "name": "stdout",
     "output_type": "stream",
     "text": [
      "[['bag', 'award', 'tate', 'lyle', 'name', 'businessman', 'lead', 'magazine', 'award', 'title', 'publication', 'forbe', 'return', 'venerable', 'manufacturer', 'country', 'top', 'company', 'sugar', 'group', 'year', 'help', 'return', 'growth', 'tate', 'share', 'boost', 'firm', 'sugar', 'price', 'sale', 'artificial', 'sweetener', 'year', 'sag', 'stock', 'price', 'year', 'venerable', 'manufacturer', 'return', 'vaunted', 'index', 'forbes', 'say', 'take', 'company', 'spending', 'career', 'consumer', 'good', 'giant', 'tate', 'original', 'member', 'index', 'operate', 'factory', 'additional', 'production', 'facility', 'country', 'previous', 'winner', 'include', 'fred', 'goodwin', 'former', 'gent']]\n"
     ]
    }
   ],
   "source": [
    "# Remove Stop Words\n",
    "data_words_nostops = remove_stopwords(data_words)\n",
    "\n",
    "# Form Bigrams\n",
    "data_words_bigrams = make_bigrams(data_words_nostops)\n",
    "\n",
    "# Initialize spacy 'en' model, keeping only tagger component (for efficiency)\n",
    "# python3 -m spacy download en\n",
    "nlp = spacy.load('en', disable=['parser', 'ner'])\n",
    "\n",
    "# Do lemmatization keeping only noun, adj, vb, adv\n",
    "data_lemmatized = lemmatization(data_words_bigrams, allowed_postags=['NOUN', 'ADJ', 'VERB', 'ADV'])\n",
    "\n",
    "print(data_lemmatized[:1])"
   ]
  },
  {
   "cell_type": "markdown",
   "metadata": {},
   "source": [
    "## Building LDA\n",
    "First, we build the inputs for LDA model, namely a dictionary(id2word) and a corpus. "
   ]
  },
  {
   "cell_type": "code",
   "execution_count": 10,
   "metadata": {},
   "outputs": [
    {
     "name": "stdout",
     "output_type": "stream",
     "text": [
      "[[(0, 1), (1, 1), (2, 2), (3, 1), (4, 1), (5, 1), (6, 1), (7, 2), (8, 1), (9, 2), (10, 1), (11, 1), (12, 1), (13, 1), (14, 1), (15, 1), (16, 1), (17, 1), (18, 1), (19, 1), (20, 1), (21, 1), (22, 1), (23, 1), (24, 1), (25, 2), (26, 1), (27, 1), (28, 1), (29, 2), (30, 1), (31, 1), (32, 1), (33, 1), (34, 1), (35, 2), (36, 1), (37, 1), (38, 3), (39, 1), (40, 1), (41, 1), (42, 1), (43, 1), (44, 1), (45, 2), (46, 1), (47, 1), (48, 3), (49, 1), (50, 1), (51, 1), (52, 2), (53, 1), (54, 3)]]\n"
     ]
    }
   ],
   "source": [
    "# Create Dictionary\n",
    "id2word = corpora.Dictionary(data_lemmatized)\n",
    "\n",
    "# Create Corpus\n",
    "texts = data_lemmatized\n",
    "\n",
    "# Term Document Frequency\n",
    "corpus = [id2word.doc2bow(text) for text in texts]\n",
    "\n",
    "# View\n",
    "print(corpus[:1])"
   ]
  },
  {
   "cell_type": "markdown",
   "metadata": {},
   "source": [
    "Gensim creates a unique id for each word in the document. The produced corpus shown above is a mapping of (word_id, word_frequency).\n",
    "\n",
    "For example, (0, 1) above implies, word id 0 occurs once in the first document. Likewise, word id 1 occurs twice and so on.\n",
    "\n",
    "This is used as the input by the LDA model.\n",
    "\n",
    "If you want to see what word a given id corresponds to, pass the id as a key to the dictionary."
   ]
  },
  {
   "cell_type": "code",
   "execution_count": 16,
   "metadata": {},
   "outputs": [
    {
     "data": {
      "text/plain": [
       "['additional',\n",
       " 'artificial',\n",
       " 'award',\n",
       " 'bag',\n",
       " 'boost',\n",
       " 'businessman',\n",
       " 'career',\n",
       " 'company',\n",
       " 'consumer',\n",
       " 'country']"
      ]
     },
     "execution_count": 16,
     "metadata": {},
     "output_type": "execute_result"
    }
   ],
   "source": [
    "[id2word[i] for i in range(10)]"
   ]
  },
  {
   "cell_type": "code",
   "execution_count": 17,
   "metadata": {},
   "outputs": [
    {
     "data": {
      "text/plain": [
       "[[('additional', 1),\n",
       "  ('artificial', 1),\n",
       "  ('award', 2),\n",
       "  ('bag', 1),\n",
       "  ('boost', 1),\n",
       "  ('businessman', 1),\n",
       "  ('career', 1),\n",
       "  ('company', 2),\n",
       "  ('consumer', 1),\n",
       "  ('country', 2),\n",
       "  ('facility', 1),\n",
       "  ('factory', 1),\n",
       "  ('firm', 1),\n",
       "  ('forbe', 1),\n",
       "  ('forbes', 1),\n",
       "  ('former', 1),\n",
       "  ('fred', 1),\n",
       "  ('gent', 1),\n",
       "  ('giant', 1),\n",
       "  ('good', 1),\n",
       "  ('goodwin', 1),\n",
       "  ('group', 1),\n",
       "  ('growth', 1),\n",
       "  ('help', 1),\n",
       "  ('include', 1),\n",
       "  ('index', 2),\n",
       "  ('lead', 1),\n",
       "  ('lyle', 1),\n",
       "  ('magazine', 1),\n",
       "  ('manufacturer', 2),\n",
       "  ('member', 1),\n",
       "  ('name', 1),\n",
       "  ('operate', 1),\n",
       "  ('original', 1),\n",
       "  ('previous', 1),\n",
       "  ('price', 2),\n",
       "  ('production', 1),\n",
       "  ('publication', 1),\n",
       "  ('return', 3),\n",
       "  ('sag', 1),\n",
       "  ('sale', 1),\n",
       "  ('say', 1),\n",
       "  ('share', 1),\n",
       "  ('spending', 1),\n",
       "  ('stock', 1),\n",
       "  ('sugar', 2),\n",
       "  ('sweetener', 1),\n",
       "  ('take', 1),\n",
       "  ('tate', 3),\n",
       "  ('title', 1),\n",
       "  ('top', 1),\n",
       "  ('vaunted', 1),\n",
       "  ('venerable', 2),\n",
       "  ('winner', 1),\n",
       "  ('year', 3)]]"
      ]
     },
     "execution_count": 17,
     "metadata": {},
     "output_type": "execute_result"
    }
   ],
   "source": [
    "# Human readable format of corpus (term-frequency)\n",
    "[[(id2word[id], freq) for id, freq in cp] for cp in corpus[:1]]"
   ]
  },
  {
   "cell_type": "markdown",
   "metadata": {},
   "source": [
    "Now we have everything required to train the LDA model. In addition to the corpus and dictionary, you need to provide the number of topics as well.\n",
    "\n",
    "Apart from that, alpha and beta are hyperparameters that affect sparsity of the topics. According to the Gensim docs, both defaults to 1.0/num_topics prior.\n",
    "\n",
    "chunksize is the number of documents to be used in each training chunk. update_every determines how often the model parameters should be updated and passes is the total number of training passes."
   ]
  },
  {
   "cell_type": "code",
   "execution_count": 12,
   "metadata": {},
   "outputs": [],
   "source": [
    "# Build LDA model\n",
    "lda_model = gensim.models.ldamodel.LdaModel(corpus=corpus,\n",
    "                                           id2word=id2word,\n",
    "                                           num_topics=5, \n",
    "                                           random_state=100,\n",
    "                                           update_every=1,\n",
    "                                           chunksize=100,\n",
    "                                           passes=10,\n",
    "                                           alpha='auto',\n",
    "                                           per_word_topics=True)"
   ]
  },
  {
   "cell_type": "code",
   "execution_count": 13,
   "metadata": {},
   "outputs": [
    {
     "name": "stdout",
     "output_type": "stream",
     "text": [
      "LdaModel(num_terms=15071, num_topics=5, decay=0.5, chunksize=100)\n",
      "[(0,\n",
      "  '0.023*\"say\" + 0.016*\"company\" + 0.015*\"firm\" + 0.013*\"use\" + 0.009*\"user\" + '\n",
      "  '0.008*\"site\" + 0.007*\"sale\" + 0.007*\"people\" + 0.007*\"net\" + '\n",
      "  '0.006*\"service\"'),\n",
      " (1,\n",
      "  '0.017*\"music\" + 0.015*\"people\" + 0.014*\"technology\" + 0.013*\"game\" + '\n",
      "  '0.012*\"use\" + 0.012*\"say\" + 0.009*\"show\" + 0.007*\"new\" + 0.007*\"tv\" + '\n",
      "  '0.007*\"industry\"'),\n",
      " (2,\n",
      "  '0.045*\"say\" + 0.019*\"would\" + 0.008*\"people\" + 0.007*\"could\" + 0.007*\"tell\" '\n",
      "  '+ 0.006*\"government\" + 0.006*\"make\" + 0.006*\"go\" + 0.005*\"party\" + '\n",
      "  '0.005*\"claim\"'),\n",
      " (3,\n",
      "  '0.026*\"say\" + 0.018*\"year\" + 0.010*\"rise\" + 0.009*\"government\" + '\n",
      "  '0.007*\"economy\" + 0.007*\"figure\" + 0.007*\"report\" + 0.007*\"country\" + '\n",
      "  '0.007*\"also\" + 0.006*\"fall\"'),\n",
      " (4,\n",
      "  '0.014*\"year\" + 0.013*\"good\" + 0.012*\"film\" + 0.011*\"say\" + 0.009*\"go\" + '\n",
      "  '0.008*\"play\" + 0.008*\"take\" + 0.008*\"win\" + 0.008*\"first\" + 0.007*\"also\"')]\n"
     ]
    }
   ],
   "source": [
    "print(lda_model)\n",
    "pprint(lda_model.print_topics())\n",
    "doc_lda = lda_model[corpus]"
   ]
  },
  {
   "cell_type": "code",
   "execution_count": 14,
   "metadata": {},
   "outputs": [
    {
     "name": "stderr",
     "output_type": "stream",
     "text": [
      "/Users/yg211/PycharmProjects/ScratchPad/venv_nlp/lib/python3.6/site-packages/pyLDAvis/_prepare.py:257: FutureWarning: Sorting because non-concatenation axis is not aligned. A future version\n",
      "of pandas will change to not sort by default.\n",
      "\n",
      "To accept the future behavior, pass 'sort=False'.\n",
      "\n",
      "To retain the current behavior and silence the warning, pass 'sort=True'.\n",
      "\n",
      "  return pd.concat([default_term_info] + list(topic_dfs))\n"
     ]
    },
    {
     "data": {
      "text/html": [
       "\n",
       "<link rel=\"stylesheet\" type=\"text/css\" href=\"https://cdn.rawgit.com/bmabey/pyLDAvis/files/ldavis.v1.0.0.css\">\n",
       "\n",
       "\n",
       "<div id=\"ldavis_el463451038676088847609837\"></div>\n",
       "<script type=\"text/javascript\">\n",
       "\n",
       "var ldavis_el463451038676088847609837_data = {\"mdsDat\": {\"x\": [0.0023973724029682244, 0.17568556557291798, -0.140244967809186, -0.15983398324969145, 0.12199601308299123], \"y\": [-0.09431833887350097, -0.11582481369515603, 0.12651901352667028, -0.09976477972063745, 0.18338891876262411], \"topics\": [1, 2, 3, 4, 5], \"cluster\": [1, 1, 1, 1, 1], \"Freq\": [29.14841079711914, 25.719188690185547, 17.388574600219727, 16.786441802978516, 10.957385063171387]}, \"tinfo\": {\"Category\": [\"Default\", \"Default\", \"Default\", \"Default\", \"Default\", \"Default\", \"Default\", \"Default\", \"Default\", \"Default\", \"Default\", \"Default\", \"Default\", \"Default\", \"Default\", \"Default\", \"Default\", \"Default\", \"Default\", \"Default\", \"Default\", \"Default\", \"Default\", \"Default\", \"Default\", \"Default\", \"Default\", \"Default\", \"Default\", \"Default\", \"Topic1\", \"Topic1\", \"Topic1\", \"Topic1\", \"Topic1\", \"Topic1\", \"Topic1\", \"Topic1\", \"Topic1\", \"Topic1\", \"Topic1\", \"Topic1\", \"Topic1\", \"Topic1\", \"Topic1\", \"Topic1\", \"Topic1\", \"Topic1\", \"Topic1\", \"Topic1\", \"Topic1\", \"Topic1\", \"Topic1\", \"Topic1\", \"Topic1\", \"Topic1\", \"Topic1\", \"Topic1\", \"Topic1\", \"Topic1\", \"Topic1\", \"Topic1\", \"Topic1\", \"Topic1\", \"Topic1\", \"Topic1\", \"Topic1\", \"Topic1\", \"Topic1\", \"Topic1\", \"Topic1\", \"Topic1\", \"Topic1\", \"Topic1\", \"Topic1\", \"Topic1\", \"Topic1\", \"Topic1\", \"Topic1\", \"Topic1\", \"Topic1\", \"Topic1\", \"Topic1\", \"Topic1\", \"Topic1\", \"Topic1\", \"Topic1\", \"Topic1\", \"Topic1\", \"Topic1\", \"Topic1\", \"Topic1\", \"Topic1\", \"Topic1\", \"Topic1\", \"Topic1\", \"Topic2\", \"Topic2\", \"Topic2\", \"Topic2\", \"Topic2\", \"Topic2\", \"Topic2\", \"Topic2\", \"Topic2\", \"Topic2\", \"Topic2\", \"Topic2\", \"Topic2\", \"Topic2\", \"Topic2\", \"Topic2\", \"Topic2\", \"Topic2\", \"Topic2\", \"Topic2\", \"Topic2\", \"Topic2\", \"Topic2\", \"Topic2\", \"Topic2\", \"Topic2\", \"Topic2\", \"Topic2\", \"Topic2\", \"Topic2\", \"Topic2\", \"Topic2\", \"Topic2\", \"Topic2\", \"Topic2\", \"Topic2\", \"Topic2\", \"Topic2\", \"Topic2\", \"Topic2\", \"Topic2\", \"Topic2\", \"Topic2\", \"Topic2\", \"Topic2\", \"Topic2\", \"Topic2\", \"Topic2\", \"Topic2\", \"Topic2\", \"Topic2\", \"Topic2\", \"Topic2\", \"Topic2\", \"Topic2\", \"Topic2\", \"Topic2\", \"Topic2\", \"Topic2\", \"Topic2\", \"Topic2\", \"Topic2\", \"Topic2\", \"Topic2\", \"Topic2\", \"Topic2\", \"Topic2\", \"Topic3\", \"Topic3\", \"Topic3\", \"Topic3\", \"Topic3\", \"Topic3\", \"Topic3\", \"Topic3\", \"Topic3\", \"Topic3\", \"Topic3\", \"Topic3\", \"Topic3\", \"Topic3\", \"Topic3\", \"Topic3\", \"Topic3\", \"Topic3\", \"Topic3\", \"Topic3\", \"Topic3\", \"Topic3\", \"Topic3\", \"Topic3\", \"Topic3\", \"Topic3\", \"Topic3\", \"Topic3\", \"Topic3\", \"Topic3\", \"Topic3\", \"Topic3\", \"Topic3\", \"Topic3\", \"Topic3\", \"Topic3\", \"Topic3\", \"Topic3\", \"Topic3\", \"Topic3\", \"Topic3\", \"Topic3\", \"Topic3\", \"Topic3\", \"Topic3\", \"Topic3\", \"Topic3\", \"Topic3\", \"Topic3\", \"Topic3\", \"Topic3\", \"Topic3\", \"Topic3\", \"Topic3\", \"Topic3\", \"Topic3\", \"Topic3\", \"Topic3\", \"Topic3\", \"Topic3\", \"Topic4\", \"Topic4\", \"Topic4\", \"Topic4\", \"Topic4\", \"Topic4\", \"Topic4\", \"Topic4\", \"Topic4\", \"Topic4\", \"Topic4\", \"Topic4\", \"Topic4\", \"Topic4\", \"Topic4\", \"Topic4\", \"Topic4\", \"Topic4\", \"Topic4\", \"Topic4\", \"Topic4\", \"Topic4\", \"Topic4\", \"Topic4\", \"Topic4\", \"Topic4\", \"Topic4\", \"Topic4\", \"Topic4\", \"Topic4\", \"Topic4\", \"Topic4\", \"Topic4\", \"Topic4\", \"Topic4\", \"Topic4\", \"Topic4\", \"Topic4\", \"Topic4\", \"Topic4\", \"Topic4\", \"Topic4\", \"Topic4\", \"Topic4\", \"Topic4\", \"Topic4\", \"Topic4\", \"Topic4\", \"Topic4\", \"Topic4\", \"Topic4\", \"Topic4\", \"Topic4\", \"Topic4\", \"Topic4\", \"Topic4\", \"Topic4\", \"Topic4\", \"Topic4\", \"Topic4\", \"Topic4\", \"Topic4\", \"Topic4\", \"Topic4\", \"Topic4\", \"Topic5\", \"Topic5\", \"Topic5\", \"Topic5\", \"Topic5\", \"Topic5\", \"Topic5\", \"Topic5\", \"Topic5\", \"Topic5\", \"Topic5\", \"Topic5\", \"Topic5\", \"Topic5\", \"Topic5\", \"Topic5\", \"Topic5\", \"Topic5\", \"Topic5\", \"Topic5\", \"Topic5\", \"Topic5\", \"Topic5\", \"Topic5\", \"Topic5\", \"Topic5\", \"Topic5\", \"Topic5\", \"Topic5\", \"Topic5\", \"Topic5\", \"Topic5\", \"Topic5\", \"Topic5\", \"Topic5\", \"Topic5\", \"Topic5\", \"Topic5\", \"Topic5\", \"Topic5\", \"Topic5\", \"Topic5\", \"Topic5\", \"Topic5\", \"Topic5\", \"Topic5\", \"Topic5\", \"Topic5\", \"Topic5\", \"Topic5\", \"Topic5\", \"Topic5\", \"Topic5\", \"Topic5\", \"Topic5\", \"Topic5\", \"Topic5\", \"Topic5\", \"Topic5\", \"Topic5\", \"Topic5\", \"Topic5\", \"Topic5\", \"Topic5\", \"Topic5\", \"Topic5\", \"Topic5\"], \"Freq\": [912.0, 1023.0, 807.0, 1101.0, 1517.0, 1885.0, 1132.0, 658.0, 2806.0, 1159.0, 545.0, 582.0, 1448.0, 747.0, 8648.0, 458.0, 930.0, 2564.0, 399.0, 692.0, 388.0, 544.0, 496.0, 494.0, 299.0, 348.0, 338.0, 448.0, 1017.0, 661.0, 543.3565673828125, 373.0536804199219, 364.1234130859375, 280.8851318359375, 327.96209716796875, 256.9750671386719, 223.8219757080078, 178.38763427734375, 175.20492553710938, 170.62025451660156, 168.15020751953125, 148.95068359375, 141.5667724609375, 137.20433044433594, 135.77947998046875, 124.67557525634766, 126.92068481445312, 121.97368621826172, 115.65727233886719, 108.32740783691406, 120.880126953125, 106.5708236694336, 105.65239715576172, 107.49468994140625, 108.26697540283203, 98.96302795410156, 100.24590301513672, 94.56946563720703, 94.91590881347656, 93.05201721191406, 474.0917053222656, 477.3134765625, 419.0023193359375, 287.4986877441406, 665.20068359375, 362.3681945800781, 473.4234924316406, 519.5426025390625, 178.04071044921875, 153.48257446289062, 1868.1248779296875, 231.70285034179688, 302.58935546875, 476.1408386230469, 4431.59326171875, 236.7235565185547, 219.2267608642578, 252.38194274902344, 644.4208984375, 453.3896179199219, 824.3345336914062, 680.9140014648438, 333.3592529296875, 476.8110656738281, 235.82415771484375, 610.8558349609375, 319.5274353027344, 634.3465576171875, 357.42041015625, 498.9917907714844, 397.8694152832031, 505.25244140625, 376.8904724121094, 335.7557678222656, 350.46624755859375, 323.2950439453125, 420.33074951171875, 337.2083435058594, 298.58758544921875, 250.92759704589844, 243.8648681640625, 238.10096740722656, 224.70997619628906, 210.45655822753906, 189.41378784179688, 175.36766052246094, 170.69923400878906, 169.3856658935547, 162.85777282714844, 151.96463012695312, 148.3267822265625, 156.07879638671875, 146.65342712402344, 131.8459014892578, 132.4740753173828, 127.25643157958984, 127.92183685302734, 123.34271240234375, 118.22892761230469, 116.01427459716797, 115.4469223022461, 111.0162353515625, 105.08250427246094, 104.11698913574219, 98.94804382324219, 99.08609771728516, 167.1049346923828, 235.9509735107422, 1042.505859375, 685.5606079101562, 317.3249206542969, 1163.908447265625, 157.3822479248047, 735.12451171875, 198.47042846679688, 283.7860107421875, 298.57623291015625, 678.302490234375, 287.1951904296875, 485.9213562011719, 376.4892272949219, 1265.77001953125, 419.476318359375, 630.5403442382812, 349.457763671875, 752.2670288085938, 633.4789428710938, 734.1318969726562, 583.8755493164062, 436.4183349609375, 553.8148803710938, 435.17352294921875, 506.9516906738281, 629.71923828125, 640.59716796875, 404.9739074707031, 950.70947265625, 373.5144348144531, 387.40875244140625, 366.8050537109375, 367.3558349609375, 347.14544677734375, 350.20257568359375, 544.9982299804688, 457.6339416503906, 387.4292907714844, 337.83563232421875, 293.1899719238281, 270.00927734375, 207.8251495361328, 193.89987182617188, 185.6301727294922, 150.20858764648438, 134.60650634765625, 127.71127319335938, 128.12924194335938, 118.36022186279297, 115.43006896972656, 118.3524398803711, 107.80708312988281, 99.42766571044922, 98.86481475830078, 95.71989440917969, 96.01580047607422, 87.01834106445312, 84.52498626708984, 77.419921875, 74.6679458618164, 74.25340270996094, 73.96565246582031, 73.33551788330078, 72.62442016601562, 61.71413040161133, 900.1553955078125, 251.02175903320312, 269.1695251464844, 287.0644226074219, 214.34738159179688, 956.6044311523438, 303.2184753417969, 426.2796325683594, 294.61322021484375, 262.2492370605469, 204.80540466308594, 226.50833129882812, 310.4292297363281, 209.93600463867188, 763.2913208007812, 340.2229309082031, 322.6920471191406, 344.4631652832031, 267.6067810058594, 1348.5196533203125, 297.00897216796875, 391.7081604003906, 282.4068298339844, 227.1779327392578, 304.89501953125, 325.638427734375, 289.2279968261719, 301.4830322265625, 238.3363494873047, 251.02064514160156, 398.70355224609375, 229.02581787109375, 219.63136291503906, 216.24237060546875, 167.6202850341797, 146.41021728515625, 145.2218780517578, 132.9722137451172, 102.04598236083984, 92.82720947265625, 91.51590728759766, 87.26937103271484, 78.08401489257812, 82.41320037841797, 75.79305267333984, 81.3100814819336, 80.45132446289062, 71.5830078125, 71.78549194335938, 63.47837448120117, 62.36114501953125, 62.21091842651367, 61.994815826416016, 64.11922454833984, 69.27096557617188, 56.60019302368164, 64.69164276123047, 53.302364349365234, 54.91392135620117, 53.26164627075195, 343.3265075683594, 558.0467529296875, 204.48208618164062, 181.51480102539062, 242.43148803710938, 390.6479187011719, 364.3254699707031, 334.3847351074219, 184.1822967529297, 343.48046875, 245.0657501220703, 190.07452392578125, 123.83540344238281, 146.5162353515625, 380.8158264160156, 238.5460968017578, 208.28189086914062, 242.77023315429688, 1042.673095703125, 342.1608581542969, 227.68504333496094, 388.24505615234375, 514.36376953125, 174.27365112304688, 1478.967041015625, 363.70599365234375, 299.6197204589844, 241.3543243408203, 233.4807891845703, 347.92962646484375, 241.33702087402344, 372.5732727050781, 251.00735473632812, 229.96417236328125, 253.75259399414062, 253.28546142578125, 240.31968688964844, 151.37030029296875, 107.21881866455078, 98.45780944824219, 95.8885498046875, 91.89227294921875, 85.731689453125, 85.85779571533203, 88.93433380126953, 75.39683532714844, 68.88021850585938, 61.291202545166016, 58.46318054199219, 58.21664047241211, 55.87489318847656, 54.525665283203125, 58.7138557434082, 52.22529602050781, 51.34381103515625, 51.24019241333008, 53.10490417480469, 50.83126449584961, 47.86990737915039, 46.68071365356445, 45.8065071105957, 48.80472183227539, 42.9587287902832, 41.880455017089844, 47.187992095947266, 136.1919403076172, 270.7119140625, 215.70401000976562, 195.86094665527344, 191.80209350585938, 529.2880249023438, 61.83966827392578, 621.8198852539062, 161.3202362060547, 197.96221923828125, 160.41746520996094, 118.55943298339844, 116.51566314697266, 255.3133087158203, 470.5375671386719, 137.65890502929688, 79.20570373535156, 565.9810180664062, 140.9615478515625, 443.971923828125, 317.0978698730469, 152.95782470703125, 176.35726928710938, 127.96549224853516, 276.6010437011719, 173.46627807617188, 193.671142578125, 438.6370544433594, 186.13465881347656, 248.96481323242188, 181.2480926513672, 189.037841796875, 230.05393981933594, 184.14756774902344, 176.5692138671875, 171.85572814941406, 160.61642456054688], \"Term\": [\"firm\", \"company\", \"music\", \"game\", \"use\", \"people\", \"film\", \"technology\", \"year\", \"government\", \"user\", \"rise\", \"good\", \"win\", \"say\", \"site\", \"play\", \"would\", \"economy\", \"player\", \"net\", \"party\", \"computer\", \"sale\", \"tv\", \"growth\", \"fraud\", \"figure\", \"show\", \"market\", \"party\", \"law\", \"tory\", \"campaign\", \"rule\", \"deny\", \"conservative\", \"police\", \"accuse\", \"voter\", \"debate\", \"crime\", \"suspend\", \"trust\", \"ban\", \"immigration\", \"discuss\", \"matter\", \"refuse\", \"lawyer\", \"victim\", \"politic\", \"parliament\", \"draft\", \"press\", \"allegation\", \"relationship\", \"complaint\", \"cancel\", \"anti\", \"labour\", \"election\", \"case\", \"court\", \"tell\", \"decision\", \"issue\", \"claim\", \"respond\", \"situation\", \"would\", \"question\", \"spokesman\", \"public\", \"say\", \"charge\", \"minister\", \"vote\", \"government\", \"plan\", \"people\", \"could\", \"believe\", \"want\", \"ask\", \"go\", \"change\", \"make\", \"call\", \"take\", \"give\", \"also\", \"new\", \"think\", \"come\", \"add\", \"award\", \"match\", \"star\", \"season\", \"beat\", \"nomination\", \"singer\", \"category\", \"injury\", \"score\", \"actor\", \"winner\", \"victory\", \"roddick\", \"comedy\", \"spanish\", \"career\", \"band\", \"album\", \"documentary\", \"finish\", \"coach\", \"chart\", \"prize\", \"lion\", \"rugby\", \"musical\", \"ceremony\", \"championship\", \"nominate\", \"goal\", \"tour\", \"film\", \"win\", \"team\", \"good\", \"love\", \"play\", \"race\", \"final\", \"chance\", \"first\", \"side\", \"player\", \"old\", \"year\", \"second\", \"game\", \"top\", \"go\", \"time\", \"take\", \"get\", \"include\", \"last\", \"set\", \"come\", \"make\", \"also\", \"number\", \"say\", \"back\", \"world\", \"think\", \"show\", \"well\", \"see\", \"user\", \"site\", \"net\", \"fraud\", \"web\", \"virus\", \"broadband\", \"program\", \"oil\", \"customer\", \"shareholder\", \"domain\", \"com\", \"connection\", \"ebber\", \"engine\", \"infect\", \"window\", \"takeover\", \"own\", \"data\", \"aircraft\", \"distribute\", \"copy\", \"auction\", \"update\", \"operator\", \"browser\", \"traffic\", \"spam\", \"firm\", \"internet\", \"file\", \"buy\", \"search\", \"company\", \"software\", \"sale\", \"website\", \"network\", \"mail\", \"information\", \"share\", \"security\", \"use\", \"system\", \"computer\", \"service\", \"business\", \"say\", \"group\", \"people\", \"many\", \"sell\", \"new\", \"make\", \"could\", \"also\", \"offer\", \"year\", \"economy\", \"dollar\", \"economic\", \"tax\", \"spending\", \"debt\", \"patent\", \"export\", \"recovery\", \"forecast\", \"pension\", \"council\", \"economist\", \"subsidy\", \"inflation\", \"directive\", \"donation\", \"income\", \"taxis\", \"construction\", \"currency\", \"mortgage\", \"saving\", \"invention\", \"earning\", \"poverty\", \"creditor\", \"unemployment\", \"irregularity\", \"reserve\", \"growth\", \"rise\", \"aid\", \"budget\", \"rate\", \"figure\", \"fall\", \"increase\", \"fund\", \"cut\", \"bn\", \"profit\", \"worker\", \"investment\", \"country\", \"price\", \"low\", \"cost\", \"year\", \"expect\", \"strong\", \"report\", \"government\", \"trade\", \"say\", \"month\", \"market\", \"job\", \"continue\", \"last\", \"high\", \"also\", \"big\", \"however\", \"would\", \"device\", \"map\", \"digital\", \"gadget\", \"blog\", \"gaming\", \"broadcast\", \"gamer\", \"satellite\", \"graphic\", \"virtual\", \"viewer\", \"interactive\", \"library\", \"channel\", \"mouse\", \"storage\", \"accessible\", \"episode\", \"console\", \"portable\", \"sky\", \"photo\", \"listener\", \"keyboard\", \"camera\", \"emcee\", \"format\", \"robot\", \"pilot\", \"apple\", \"tv\", \"video\", \"screen\", \"creative\", \"technology\", \"entertainment\", \"music\", \"image\", \"mobile\", \"radio\", \"art\", \"content\", \"industry\", \"game\", \"picture\", \"wireless\", \"people\", \"machine\", \"use\", \"show\", \"online\", \"create\", \"medium\", \"new\", \"computer\", \"player\", \"say\", \"market\", \"make\", \"way\", \"want\", \"also\", \"work\", \"world\", \"get\", \"time\"], \"Total\": [912.0, 1023.0, 807.0, 1101.0, 1517.0, 1885.0, 1132.0, 658.0, 2806.0, 1159.0, 545.0, 582.0, 1448.0, 747.0, 8648.0, 458.0, 930.0, 2564.0, 399.0, 692.0, 388.0, 544.0, 496.0, 494.0, 299.0, 348.0, 338.0, 448.0, 1017.0, 661.0, 544.147216796875, 373.8155822753906, 364.9343566894531, 281.6499938964844, 328.9295654296875, 257.74322509765625, 224.70663452148438, 179.1472625732422, 175.97068786621094, 171.39923095703125, 168.93284606933594, 149.71502685546875, 142.332763671875, 137.97427368164062, 136.5513458251953, 125.43059539794922, 127.70240020751953, 122.75269317626953, 116.42080688476562, 109.08697509765625, 121.7363052368164, 107.3307113647461, 106.41101837158203, 108.28382110595703, 109.06362915039062, 99.7229232788086, 101.03070831298828, 95.34476470947266, 95.70010375976562, 93.83557891845703, 494.9005126953125, 511.54583740234375, 448.3700866699219, 303.0546569824219, 748.3738403320312, 393.8436279296875, 524.9081420898438, 580.3455810546875, 186.61141967773438, 159.1138916015625, 2564.561279296875, 252.48825073242188, 346.8745422363281, 597.7998046875, 8648.42578125, 275.6139831542969, 252.33680725097656, 309.32794189453125, 1159.3262939453125, 740.0279541015625, 1885.996337890625, 1468.2515869140625, 496.7422180175781, 893.2666625976562, 292.4850158691406, 1677.849609375, 515.8760375976562, 1957.34912109375, 680.6087646484375, 1649.2147216796875, 1016.5704956054688, 2049.959716796875, 1300.4769287109375, 869.514892578125, 1204.9302978515625, 905.11181640625, 421.1040954589844, 337.99072265625, 299.3587341308594, 251.7168731689453, 244.64085388183594, 238.87074279785156, 225.4862518310547, 211.24404907226562, 190.1853485107422, 176.13934326171875, 171.4680938720703, 170.1565399169922, 163.63038635253906, 152.7331085205078, 149.1004638671875, 156.90101623535156, 147.4265594482422, 132.62571716308594, 133.2624969482422, 128.0349884033203, 128.71177673339844, 124.11341094970703, 119.0052719116211, 116.78975677490234, 116.21981048583984, 111.7859115600586, 105.85623168945312, 104.89871215820312, 99.71611785888672, 99.85597229003906, 168.73390197753906, 239.151123046875, 1132.1741943359375, 747.2088012695312, 347.3565368652344, 1448.993896484375, 164.33963012695312, 930.1015625, 218.44332885742188, 336.97979736328125, 360.7632751464844, 1043.8685302734375, 353.3819885253906, 692.3032836914062, 502.77191162109375, 2806.794677734375, 624.521240234375, 1101.6788330078125, 515.910888671875, 1677.849609375, 1298.479736328125, 1649.2147216796875, 1187.1103515625, 804.1834106445312, 1250.349853515625, 879.9926147460938, 1204.9302978515625, 1957.34912109375, 2049.959716796875, 854.9163208007812, 8648.42578125, 732.3512573242188, 832.5310668945312, 869.514892578125, 1017.5946044921875, 762.881103515625, 1006.3001708984375, 545.7928466796875, 458.4288024902344, 388.2341613769531, 338.67828369140625, 293.9947204589844, 270.80389404296875, 208.62289428710938, 194.69699096679688, 186.44515991210938, 151.00172424316406, 135.40159606933594, 128.50320434570312, 128.98919677734375, 119.16376495361328, 116.26187896728516, 119.2060546875, 108.60137939453125, 100.22692108154297, 99.6644287109375, 96.52621459960938, 96.82730102539062, 87.82807922363281, 85.34640502929688, 78.2169189453125, 75.46074676513672, 75.04443359375, 74.76020050048828, 74.12727355957031, 73.43728637695312, 62.50157165527344, 912.3032836914062, 257.71954345703125, 276.8570861816406, 297.0957946777344, 220.95639038085938, 1023.0928955078125, 316.8009948730469, 494.4621887207031, 338.5251770019531, 302.7115478515625, 228.9175567626953, 285.05596923828125, 435.9081115722656, 262.7811279296875, 1517.769775390625, 532.9439086914062, 496.77886962890625, 549.6146240234375, 474.06927490234375, 8648.42578125, 624.7935791015625, 1885.996337890625, 727.407958984375, 358.71649169921875, 1300.4769287109375, 1957.34912109375, 1468.2515869140625, 2049.959716796875, 534.7750244140625, 2806.794677734375, 399.4593200683594, 229.77601623535156, 220.38204956054688, 216.99493408203125, 168.3741912841797, 147.16322326660156, 146.06863403320312, 133.7570037841797, 102.82567596435547, 93.57889556884766, 92.27018737792969, 88.03801727294922, 78.8338394165039, 83.21952819824219, 76.54087829589844, 82.12918853759766, 81.28260803222656, 72.33293151855469, 72.54100799560547, 64.23767852783203, 63.10894775390625, 62.96520233154297, 62.76469039916992, 64.92374420166016, 70.17721557617188, 57.357574462890625, 65.5938949584961, 54.05170822143555, 55.70108413696289, 54.02992630004883, 348.56634521484375, 582.0989379882812, 212.2725830078125, 190.211669921875, 262.2498474121094, 448.8245849609375, 432.6728820800781, 402.33367919921875, 209.52113342285156, 420.174560546875, 302.2658996582031, 235.3645782470703, 142.49046325683594, 181.2250213623047, 637.9524536132812, 351.71014404296875, 294.6579895019531, 364.0774230957031, 2806.794677734375, 593.2151489257812, 342.62872314453125, 761.8966064453125, 1159.3262939453125, 240.4552459716797, 8648.42578125, 831.5249633789062, 661.047607421875, 429.6650390625, 410.3776550292969, 1250.349853515625, 464.069091796875, 2049.959716796875, 675.8445434570312, 465.64947509765625, 2564.561279296875, 254.08192443847656, 241.1663818359375, 152.16473388671875, 108.01314544677734, 99.2586898803711, 96.68170928955078, 92.69585418701172, 86.52314758300781, 86.65779113769531, 89.76428985595703, 76.19845581054688, 69.68071746826172, 62.087867736816406, 59.26868438720703, 59.019203186035156, 56.67268371582031, 55.322391510009766, 59.60857009887695, 53.028350830078125, 52.13593292236328, 52.03310775756836, 53.9561767578125, 51.64809036254883, 48.677608489990234, 47.47425842285156, 46.60014343261719, 49.69533920288086, 43.75335693359375, 42.672950744628906, 48.11133575439453, 142.69972229003906, 299.65863037109375, 236.29669189453125, 215.87802124023438, 211.422607421875, 658.4256591796875, 64.24887084960938, 807.4812622070312, 190.55560302734375, 243.92440795898438, 194.64723205566406, 138.8659210205078, 155.2164306640625, 458.99188232421875, 1101.6788330078125, 210.1856689453125, 93.01761627197266, 1885.996337890625, 225.18081665039062, 1517.769775390625, 1017.5946044921875, 291.8355712890625, 402.31610107421875, 211.7233428955078, 1300.4769287109375, 496.77886962890625, 692.3032836914062, 8648.42578125, 661.047607421875, 1957.34912109375, 720.44921875, 893.2666625976562, 2049.959716796875, 852.4525756835938, 832.5310668945312, 1187.1103515625, 1298.479736328125], \"loglift\": [30.0, 29.0, 28.0, 27.0, 26.0, 25.0, 24.0, 23.0, 22.0, 21.0, 20.0, 19.0, 18.0, 17.0, 16.0, 15.0, 14.0, 13.0, 12.0, 11.0, 10.0, 9.0, 8.0, 7.0, 6.0, 5.0, 4.0, 3.0, 2.0, 1.0, 1.2312999963760376, 1.2307000160217285, 1.2304999828338623, 1.2301000356674194, 1.2297999858856201, 1.2297999858856201, 1.2288000583648682, 1.2285000085830688, 1.2283999919891357, 1.2281999588012695, 1.2280999422073364, 1.2276999950408936, 1.2273999452590942, 1.2272000312805176, 1.2271000146865845, 1.226699948310852, 1.2266000509262085, 1.2264000177383423, 1.226199984550476, 1.2258000373840332, 1.2257000207901, 1.2257000207901, 1.225600004196167, 1.2254999876022339, 1.2253999710083008, 1.225100040435791, 1.225000023841858, 1.2245999574661255, 1.2244999408721924, 1.2244000434875488, 1.1898000240325928, 1.1634999513626099, 1.1649999618530273, 1.1800999641418457, 1.1150000095367432, 1.1495000123977661, 1.1295000314712524, 1.1220999956130981, 1.1857999563217163, 1.1966999769210815, 0.9158999919891357, 1.1469000577926636, 1.0961999893188477, 1.0052000284194946, 0.5641999840736389, 1.0807000398635864, 1.0921000242233276, 1.0292999744415283, 0.6455000042915344, 0.7427999973297119, 0.4050999879837036, 0.4643999934196472, 0.833899974822998, 0.6050000190734863, 1.0174000263214111, 0.2223999947309494, 0.7537000179290771, 0.10599999874830246, 0.588699996471405, 0.037300001829862595, 0.2946999967098236, -0.16769999265670776, -0.005799999926239252, 0.28119999170303345, -0.002099999925121665, 0.20329999923706055, 1.3560999631881714, 1.3555999994277954, 1.3553999662399292, 1.3547999858856201, 1.3547999858856201, 1.354699969291687, 1.3545000553131104, 1.354200005531311, 1.3538999557495117, 1.3535000085830688, 1.3533999919891357, 1.3533999919891357, 1.3531999588012695, 1.3529000282287598, 1.3526999950408936, 1.3526999950408936, 1.3526999950408936, 1.3519999980926514, 1.3519999980926514, 1.3517999649047852, 1.3517999649047852, 1.351699948310852, 1.3514000177383423, 1.3513000011444092, 1.3513000011444092, 1.3509999513626099, 1.350600004196167, 1.3504999876022339, 1.3502000570297241, 1.3502000570297241, 1.3481999635696411, 1.344499945640564, 1.2754000425338745, 1.2718000411987305, 1.2675000429153442, 1.138800024986267, 1.3147000074386597, 1.1226999759674072, 1.2619999647140503, 1.1861000061035156, 1.1686999797821045, 0.926800012588501, 1.1505000591278076, 1.003999948501587, 1.0686999559402466, 0.5616000294685364, 0.9599999785423279, 0.7998999953269958, 0.9684000015258789, 0.5558000206947327, 0.6402000188827515, 0.5486000180244446, 0.6482999920845032, 0.7466999888420105, 0.5436000227928162, 0.6538000106811523, 0.49219998717308044, 0.22390000522136688, 0.19480000436306, 0.61080002784729, -0.8500000238418579, 0.6845999956130981, 0.5928999781608582, 0.49480000138282776, 0.3391000032424927, 0.5705999732017517, 0.30239999294281006, 1.7479000091552734, 1.7475999593734741, 1.7473000288009644, 1.746899962425232, 1.7466000318527222, 1.746399998664856, 1.7454999685287476, 1.745300054550171, 1.7450000047683716, 1.7440999746322632, 1.743499994277954, 1.7431999444961548, 1.7426999807357788, 1.7425999641418457, 1.7422000169754028, 1.7422000169754028, 1.7419999837875366, 1.7414000034332275, 1.7412999868392944, 1.7410000562667847, 1.7409000396728516, 1.7401000261306763, 1.7396999597549438, 1.7390999794006348, 1.738800048828125, 1.738800048828125, 1.738700032234192, 1.7386000156402588, 1.7381999492645264, 1.7367000579833984, 1.7359999418258667, 1.7230000495910645, 1.7211999893188477, 1.715000033378601, 1.718999981880188, 1.6821999549865723, 1.7055000066757202, 1.6009999513626099, 1.6103999614715576, 1.6059000492095947, 1.638100028038025, 1.5195000171661377, 1.4098999500274658, 1.5247999429702759, 1.062000036239624, 1.3005000352859497, 1.3178999423980713, 1.282099962234497, 1.1775000095367432, -0.10899999737739563, 1.0056999921798706, 0.1776999980211258, 0.8032000064849854, 1.2926000356674194, 0.298799991607666, -0.044199999421834946, 0.12470000237226486, -0.16750000417232513, 0.9412000179290771, -0.664900004863739, 1.7826999425888062, 1.7812999486923218, 1.7812000513076782, 1.7811000347137451, 1.7800999879837036, 1.7795000076293945, 1.7788000106811523, 1.7786999940872192, 1.7769999504089355, 1.7764999866485596, 1.7763999700546265, 1.7757999897003174, 1.774999976158142, 1.774899959564209, 1.7747999429702759, 1.7746000289916992, 1.7742999792099, 1.7741999626159668, 1.7740999460220337, 1.7726999521255493, 1.7726999521255493, 1.7725000381469727, 1.7723000049591064, 1.7720999717712402, 1.7716000080108643, 1.771299958229065, 1.7706999778747559, 1.7705999612808228, 1.770400047302246, 1.770300030708313, 1.7695000171661377, 1.742400050163269, 1.7472000122070312, 1.7378000020980835, 1.7059999704360962, 1.645799994468689, 1.6126999855041504, 1.5995999574661255, 1.6556999683380127, 1.5830999612808228, 1.5748000144958496, 1.5708999633789062, 1.6442999839782715, 1.5720000267028809, 1.2687000036239624, 1.396399974822998, 1.4377000331878662, 1.3792999982833862, 0.7943000197410583, 1.2343000173568726, 1.3759000301361084, 1.1103999614715576, 0.9718999862670898, 1.4627000093460083, 0.01860000006854534, 0.9577000141143799, 0.9933000206947327, 1.207900047302246, 1.2206000089645386, 0.5054000020027161, 1.1308000087738037, 0.0794999971985817, 0.7940999865531921, 1.0791000127792358, -0.5285999774932861, 2.2079999446868896, 2.2076001167297363, 2.205899953842163, 2.2037999629974365, 2.2030999660491943, 2.202899932861328, 2.202399969100952, 2.2019999027252197, 2.201900005340576, 2.201900005340576, 2.2005999088287354, 2.1995999813079834, 2.198199987411499, 2.197499990463257, 2.197499990463257, 2.197000026702881, 2.196700096130371, 2.196000099182129, 2.1958999633789062, 2.1958000659942627, 2.1958000659942627, 2.1953001022338867, 2.195199966430664, 2.1944000720977783, 2.1942999362945557, 2.194000005722046, 2.1930999755859375, 2.1928000450134277, 2.1923999786376953, 2.191800117492676, 2.1644999980926514, 2.109600067138672, 2.119999885559082, 2.113800048828125, 2.113800048828125, 1.992799997329712, 2.1728999614715576, 1.9499000310897827, 2.044600009918213, 2.0023999214172363, 2.017699956893921, 2.053100109100342, 1.924399971961975, 1.6246000528335571, 1.3603999614715576, 1.7878999710083008, 2.0504000186920166, 1.0075000524520874, 1.7426999807357788, 0.9818999767303467, 1.045199990272522, 1.5650999546051025, 1.3863999843597412, 1.7075999975204468, 0.6632000207901001, 1.159000039100647, 0.9373000264167786, -0.7702999711036682, 0.9437999725341797, 0.14910000562667847, 0.8310999870300293, 0.6582000255584717, 0.023900000378489494, 0.6787999868392944, 0.6603999733924866, 0.2784999907016754, 0.12120000272989273], \"logprob\": [30.0, 29.0, 28.0, 27.0, 26.0, 25.0, 24.0, 23.0, 22.0, 21.0, 20.0, 19.0, 18.0, 17.0, 16.0, 15.0, 14.0, 13.0, 12.0, 11.0, 10.0, 9.0, 8.0, 7.0, 6.0, 5.0, 4.0, 3.0, 2.0, 1.0, -5.2067999839782715, -5.582799911499023, -5.607100009918213, -5.866600036621094, -5.711699962615967, -5.955599784851074, -6.093699932098389, -6.3206000328063965, -6.338600158691406, -6.365099906921387, -6.379700183868408, -6.500899791717529, -6.551799774169922, -6.583099842071533, -6.593500137329102, -6.678800106048584, -6.660999774932861, -6.700699806213379, -6.753900051116943, -6.819399833679199, -6.709799766540527, -6.835700035095215, -6.844399929046631, -6.827099800109863, -6.820000171661377, -6.909800052642822, -6.896900177001953, -6.9552001953125, -6.951600074768066, -6.971399784088135, -5.343200206756592, -5.336400032043457, -5.466700077056885, -5.843299865722656, -5.004499912261963, -5.6118998527526855, -5.344600200653076, -5.2515997886657715, -6.322500228881836, -6.4710001945495605, -3.97189998626709, -6.059100151062012, -5.792200088500977, -5.338799953460693, -3.1080000400543213, -6.037700176239014, -6.1143999099731445, -5.973599910736084, -5.036200046539307, -5.387800216674805, -4.789999961853027, -4.981100082397461, -5.695300102233887, -5.337399959564209, -6.041500091552734, -5.089700222015381, -5.73769998550415, -5.052000045776367, -5.6255998611450195, -5.291999816894531, -5.518400192260742, -5.2795000076293945, -5.5725998878479, -5.688199996948242, -5.645299911499023, -5.72599983215332, -5.338399887084961, -5.558700084686279, -5.680300235748291, -5.8541998863220215, -5.882800102233887, -5.906700134277344, -5.964600086212158, -6.030099868774414, -6.135499954223633, -6.212500095367432, -6.239500045776367, -6.247200012207031, -6.286499977111816, -6.3557000160217285, -6.380000114440918, -6.328999996185303, -6.391300201416016, -6.497799873352051, -6.493000030517578, -6.533199787139893, -6.5279998779296875, -6.5644001960754395, -6.606800079345703, -6.625699996948242, -6.6305999755859375, -6.6697001457214355, -6.724599838256836, -6.73390007019043, -6.784800052642822, -6.783400058746338, -6.260799884796143, -5.915800094604492, -4.429999828338623, -4.8491997718811035, -5.619500160217285, -4.319900035858154, -6.320700168609619, -4.779399871826172, -6.088799953460693, -5.731200218200684, -5.6803998947143555, -4.859799861907959, -5.719200134277344, -5.193299770355225, -5.448500156402588, -4.236000061035156, -5.340400218963623, -4.932799816131592, -5.5229997634887695, -4.75629997253418, -4.928199768066406, -4.780700206756592, -5.009699821472168, -5.30079984664917, -5.062600135803223, -5.303599834442139, -5.151000022888184, -4.934100151062012, -4.916999816894531, -5.3755998611450195, -4.522200107574463, -5.456399917602539, -5.419899940490723, -5.474599838256836, -5.473100185394287, -5.529600143432617, -5.520899772644043, -4.68720006942749, -4.8618998527526855, -5.02839994430542, -5.16540002822876, -5.30709981918335, -5.389500141143799, -5.651299953460693, -5.720600128173828, -5.764200210571289, -5.975900173187256, -6.085599899291992, -6.138199806213379, -6.134900093078613, -6.214200019836426, -6.239299774169922, -6.214300155639648, -6.307600021362305, -6.388500213623047, -6.394199848175049, -6.426499843597412, -6.423500061035156, -6.5218000411987305, -6.550899982452393, -6.638700008392334, -6.674900054931641, -6.680500030517578, -6.6844000816345215, -6.69290018081665, -6.702700138092041, -6.865499973297119, -4.185400009155273, -5.462399959564209, -5.392600059509277, -5.3282999992370605, -5.6203999519348145, -4.124599933624268, -5.273499965667725, -4.9328999519348145, -5.302299976348877, -5.418700218200684, -5.665900230407715, -5.565199851989746, -5.25, -5.641200065612793, -4.350299835205078, -5.158400058746338, -5.211299896240234, -5.145999908447266, -5.398399829864502, -3.7811999320983887, -5.2941999435424805, -5.017499923706055, -5.344600200653076, -5.56220006942749, -5.26800012588501, -5.202199935913086, -5.320799827575684, -5.279300212860107, -5.5142998695373535, -5.462399959564209, -4.9644999504089355, -5.518899917602539, -5.560800075531006, -5.576300144195557, -5.830999851226807, -5.966300010681152, -5.9745001792907715, -6.062600135803223, -6.327300071716309, -6.421999931335449, -6.436200141906738, -6.483699798583984, -6.594900131225586, -6.540999889373779, -6.62470006942749, -6.554500102996826, -6.565100193023682, -6.6819000244140625, -6.678999900817871, -6.802000045776367, -6.819799900054932, -6.822199821472168, -6.825699806213379, -6.791999816894531, -6.714700222015381, -6.9166998863220215, -6.783100128173828, -6.9766998291015625, -6.947000026702881, -6.977499961853027, -5.113999843597412, -4.628300189971924, -5.632199764251709, -5.751399993896484, -5.461999893188477, -4.984899997711182, -5.054699897766113, -5.140399932861328, -5.736800193786621, -5.11359977722168, -5.451200008392334, -5.7052998542785645, -6.133800029754639, -5.96560001373291, -5.01039981842041, -5.4781999588012695, -5.613800048828125, -5.460599899291992, -4.003200054168701, -5.117400169372559, -5.524799823760986, -4.991099834442139, -4.709799766540527, -5.792099952697754, -3.653599977493286, -5.056399822235107, -5.250199794769287, -5.4664998054504395, -5.499599933624268, -5.1006999015808105, -5.4664998054504395, -5.032299995422363, -5.427199840545654, -5.514800071716309, -5.416399955749512, -4.991700172424316, -5.0441999435424805, -5.506400108337402, -5.85129976272583, -5.936500072479248, -5.9629998207092285, -6.0055999755859375, -6.074900150299072, -6.073500156402588, -6.038300037384033, -6.203400135040283, -6.293799877166748, -6.4105000495910645, -6.457799911499023, -6.461999893188477, -6.5030999183654785, -6.527500152587891, -6.453499794006348, -6.5706000328063965, -6.587600231170654, -6.589600086212158, -6.553899765014648, -6.597700119018555, -6.657700061798096, -6.682799816131592, -6.701700210571289, -6.638299942016602, -6.765900135040283, -6.791299819946289, -6.671999931335449, -5.612100124359131, -4.925099849700928, -5.152299880981445, -5.248799800872803, -5.269700050354004, -4.2546000480651855, -6.401599884033203, -4.093500137329102, -5.442800045013428, -5.238100051879883, -5.448400020599365, -5.750800132751465, -5.768099784851074, -4.983699798583984, -4.372300148010254, -5.601399898529053, -6.154099941253662, -4.187600135803223, -5.577700138092041, -4.4303998947143555, -4.767000198364258, -5.495999813079834, -5.353700160980225, -5.6743998527526855, -4.903600215911865, -5.370200157165527, -5.260000228881836, -4.442500114440918, -5.299699783325195, -5.008900165557861, -5.326300144195557, -5.284200191497803, -5.087900161743164, -5.310400009155273, -5.352499961853027, -5.379499912261963, -5.4471001625061035]}, \"token.table\": {\"Topic\": [5, 1, 2, 1, 2, 3, 4, 5, 2, 4, 3, 2, 1, 1, 2, 3, 4, 5, 1, 3, 5, 2, 5, 1, 2, 3, 5, 3, 2, 1, 2, 3, 4, 5, 1, 2, 2, 1, 2, 3, 4, 1, 2, 3, 4, 5, 5, 3, 4, 3, 5, 3, 2, 4, 3, 4, 3, 5, 1, 2, 3, 4, 5, 5, 1, 1, 2, 1, 3, 4, 2, 2, 2, 1, 2, 4, 1, 2, 3, 4, 5, 5, 1, 3, 2, 1, 2, 3, 4, 2, 3, 1, 2, 3, 4, 5, 2, 3, 4, 1, 3, 5, 3, 1, 5, 4, 3, 5, 1, 2, 3, 4, 3, 3, 4, 5, 1, 2, 3, 4, 5, 4, 1, 2, 3, 4, 1, 2, 1, 2, 3, 4, 5, 2, 5, 4, 1, 4, 3, 2, 3, 4, 3, 1, 4, 1, 2, 3, 4, 1, 5, 5, 4, 1, 3, 2, 4, 3, 4, 1, 4, 3, 4, 4, 4, 1, 4, 5, 3, 3, 5, 5, 1, 2, 3, 4, 5, 4, 2, 3, 4, 3, 4, 5, 1, 3, 2, 5, 1, 2, 4, 2, 1, 3, 1, 2, 3, 4, 5, 4, 5, 3, 1, 4, 5, 2, 5, 5, 5, 1, 2, 3, 4, 5, 1, 2, 3, 4, 5, 1, 2, 3, 4, 5, 2, 5, 1, 2, 3, 4, 5, 1, 4, 5, 1, 2, 3, 4, 5, 3, 4, 1, 2, 3, 4, 5, 1, 2, 3, 4, 5, 1, 3, 5, 1, 1, 2, 3, 4, 5, 4, 3, 4, 5, 3, 4, 5, 3, 4, 1, 3, 5, 2, 5, 1, 3, 4, 3, 4, 4, 1, 3, 4, 5, 1, 2, 3, 4, 5, 1, 4, 1, 2, 3, 4, 1, 1, 5, 2, 5, 1, 2, 2, 3, 4, 3, 5, 1, 3, 1, 2, 3, 4, 5, 1, 2, 3, 4, 5, 5, 3, 4, 5, 2, 1, 1, 3, 5, 1, 4, 3, 5, 1, 2, 3, 4, 5, 4, 5, 2, 5, 2, 3, 3, 5, 1, 2, 3, 4, 5, 2, 2, 1, 2, 3, 4, 5, 1, 2, 3, 4, 5, 3, 1, 2, 3, 5, 3, 5, 3, 3, 1, 1, 4, 4, 1, 2, 3, 4, 5, 5, 2, 4, 5, 5, 1, 3, 4, 5, 1, 2, 5, 2, 3, 5, 1, 1, 5, 4, 1, 3, 4, 5, 2, 3, 4, 3, 1, 4, 1, 3, 1, 2, 1, 2, 5, 3, 4, 4, 1, 1, 1, 3, 4, 4, 1, 2, 2, 3, 4, 5, 2, 2, 1, 2, 3, 5, 5, 4, 1, 2, 3, 4, 5, 2, 2, 5, 2, 3, 2, 1, 2, 3, 4, 1, 3, 4, 1, 2, 3, 4, 5, 2, 3, 5, 1, 3, 4, 5, 1, 2, 3, 4, 5, 3, 4, 3, 1, 2, 3, 4, 5, 1, 2, 2, 3, 1, 4, 5, 3, 5, 3, 2, 4, 1, 3, 4, 2, 5, 1, 2, 4, 4, 1, 1, 3, 4, 5, 1, 2, 3, 4, 5, 3, 4, 4, 1, 2, 3, 5, 1, 2, 4, 5, 1, 2, 3, 4, 5, 1, 2, 3, 4, 5, 1, 2, 3, 4, 5, 1, 1, 2, 3, 4, 3, 1, 2, 5, 4, 3, 1, 2, 3, 5, 3, 1, 2, 2, 3, 5, 5, 5, 3, 1, 2, 4, 1, 1, 2, 3, 5, 1, 2, 3, 4, 5, 3, 1, 2, 3, 5, 1, 2, 3, 4, 5, 1, 2, 3, 2, 3, 5, 1, 2, 3, 4, 5, 3, 4, 1, 2, 3, 4, 5, 1, 2, 3, 4, 5, 1, 2, 3, 4, 5], \"Freq\": [0.9897905588150024, 0.9944838285446167, 0.9972701072692871, 0.35686197876930237, 0.2894670069217682, 0.09612072259187698, 0.18671725690364838, 0.07181432843208313, 0.03297646716237068, 0.961028516292572, 0.9905716180801392, 0.9905262589454651, 0.9927507042884827, 0.24634630978107452, 0.31268906593322754, 0.1468321532011032, 0.18195480108261108, 0.11219732463359833, 0.9910953044891357, 0.042046330869197845, 0.9530501961708069, 0.1440238207578659, 0.8569416999816895, 0.806878924369812, 0.06496059149503708, 0.061541613191366196, 0.06837957352399826, 0.9938942193984985, 0.9973781108856201, 0.35228997468948364, 0.5106838941574097, 0.0655423179268837, 0.07100418210029602, 0.0013654649956151843, 0.995962381362915, 0.9952820539474487, 0.9973804354667664, 0.6703678369522095, 0.21741658449172974, 0.014091815799474716, 0.09662959724664688, 0.03255186602473259, 0.3506723642349243, 0.16571858525276184, 0.37138718366622925, 0.07842040061950684, 0.9873191118240356, 0.18857568502426147, 0.8105446100234985, 0.9970142841339111, 0.9924931526184082, 0.9847927093505859, 0.04205840826034546, 0.956828773021698, 0.56531822681427, 0.4345356523990631, 0.9660183787345886, 0.030293259769678116, 0.5245304107666016, 0.08521782606840134, 0.34968695044517517, 0.004407818429172039, 0.036731820553541183, 0.9871214032173157, 0.9976921677589417, 0.9926844239234924, 0.9971066117286682, 0.9344958662986755, 0.046836309134960175, 0.017842402681708336, 0.9941108226776123, 0.9914325475692749, 0.9928184151649475, 0.15799833834171295, 0.8287983536720276, 0.013859503902494907, 0.6203040480613708, 0.08335335552692413, 0.04846125468611717, 0.11824546009302139, 0.1318146139383316, 0.9827309846878052, 0.8598983287811279, 0.13787399232387543, 0.9915527105331421, 0.896017849445343, 0.09304800629615784, 0.005169333890080452, 0.006892445031553507, 0.9910290837287903, 0.9923311471939087, 0.29047322273254395, 0.4207712411880493, 0.05643479898571968, 0.1402570754289627, 0.09129158407449722, 0.9926193356513977, 0.9353989362716675, 0.0645102709531784, 0.9963840246200562, 0.650188684463501, 0.34824347496032715, 0.9902338981628418, 0.9968553185462952, 0.9782121181488037, 0.980732798576355, 0.24481944739818573, 0.7537862062454224, 0.14133323729038239, 0.1681378036737442, 0.1218389943242073, 0.5677697062492371, 0.9844417572021484, 0.2829068601131439, 0.6674404740333557, 0.04944003373384476, 0.46381697058677673, 0.11714613437652588, 0.19683274626731873, 0.12327587604522705, 0.09875691682100296, 0.9882094264030457, 0.3166380226612091, 0.05172799155116081, 0.03605284169316292, 0.597223162651062, 0.947023868560791, 0.04949602112174034, 0.11930917203426361, 0.044740937650203705, 0.20381982624530792, 0.19387739896774292, 0.43746694922447205, 0.08986739814281464, 0.9081337451934814, 0.9909458756446838, 0.9952240586280823, 0.9824280142784119, 0.9933661222457886, 0.10471837967634201, 0.07615882158279419, 0.8163273930549622, 0.9914559125900269, 0.9944779872894287, 0.9920957088470459, 0.9191465377807617, 0.010156314820051193, 0.035547103732824326, 0.03300802409648895, 0.9971163868904114, 0.9957418441772461, 0.9923455715179443, 0.9862510561943054, 0.994499683380127, 0.995941162109375, 0.9919163584709167, 0.9966227412223816, 0.9960840940475464, 0.9842203855514526, 0.9881439208984375, 0.9832251071929932, 0.9891462326049805, 0.9982663989067078, 0.9894227981567383, 0.9988501667976379, 0.9324677586555481, 0.06646520644426346, 0.9860079884529114, 0.9898825883865356, 0.031128952279686928, 0.9649975299835205, 0.9806075096130371, 0.2090304046869278, 0.13148686289787292, 0.047200411558151245, 0.5765193104743958, 0.035400308668613434, 0.9943404793739319, 0.12480559945106506, 0.03235700726509094, 0.8412821888923645, 0.04010475426912308, 0.8711643815040588, 0.08912167698144913, 0.025283802300691605, 0.9716204404830933, 0.9212363362312317, 0.07860980927944183, 0.05044812709093094, 0.8427804708480835, 0.10683132708072662, 0.9944700002670288, 0.013153520412743092, 0.9865140318870544, 0.06131040304899216, 0.6495071053504944, 0.07184813171625137, 0.13124258816242218, 0.08525978028774261, 0.9938138127326965, 0.982781708240509, 0.9979972839355469, 0.11931970715522766, 0.8781930208206177, 0.9906201362609863, 0.5727621912956238, 0.42752930521965027, 0.9939536452293396, 0.9929489493370056, 0.24260592460632324, 0.4919508993625641, 0.11287914216518402, 0.007581435143947601, 0.14488965272903442, 0.3915124535560608, 0.3383926749229431, 0.08263076841831207, 0.07476116716861725, 0.11214175820350647, 0.3641566038131714, 0.4481927454471588, 0.0476800762116909, 0.0524480864405632, 0.08761214464902878, 0.9897240400314331, 0.005926491227000952, 0.031056031584739685, 0.8033159971237183, 0.03864750638604164, 0.10559050738811493, 0.02139415591955185, 0.555495023727417, 0.44336095452308655, 0.991485595703125, 0.29129621386528015, 0.12324070185422897, 0.4753569960594177, 0.07202378660440445, 0.03841268643736839, 0.014344471506774426, 0.9840307235717773, 0.021548515185713768, 0.20471090078353882, 0.15083961188793182, 0.5193192362785339, 0.10343287140130997, 0.16965551674365997, 0.12885229289531708, 0.18683581054210663, 0.493933767080307, 0.021475382149219513, 0.0524781197309494, 0.0997084304690361, 0.8448977470397949, 0.9965670704841614, 0.11813225597143173, 0.5421648621559143, 0.12310624867677689, 0.11564525961875916, 0.10072328895330429, 0.9953972101211548, 0.12178945541381836, 0.830156683921814, 0.04473898559808731, 0.23094090819358826, 0.2135114073753357, 0.555565357208252, 0.9944624900817871, 0.992933452129364, 0.12278290838003159, 0.7963348627090454, 0.08068590611219406, 0.9937673807144165, 0.9824785590171814, 0.023281121626496315, 0.9739269018173218, 0.9857718348503113, 0.18761205673217773, 0.8111462593078613, 0.9874134659767151, 0.901110053062439, 0.04572228714823723, 0.028576428070664406, 0.022861143574118614, 0.32816261053085327, 0.0256013385951519, 0.0861135944724083, 0.5609020590782166, 0.9900102019309998, 0.9577682614326477, 0.040412161499261856, 0.15355701744556427, 0.4430759847164154, 0.12556485831737518, 0.27832210063934326, 0.9978182315826416, 0.9900357127189636, 0.9785943627357483, 0.9895042777061462, 0.9860796928405762, 0.03650975599884987, 0.9553386569023132, 0.13914437592029572, 0.1527194231748581, 0.7059031128883362, 0.3730335533618927, 0.6261634826660156, 0.10484123975038528, 0.8955188989639282, 0.3239074647426605, 0.32186388969421387, 0.16655178368091583, 0.06079651415348053, 0.12721286714076996, 0.1979631930589676, 0.1402239203453064, 0.3876779079437256, 0.148472398519516, 0.1251017451286316, 0.9951635599136353, 0.2647313177585602, 0.45382511615753174, 0.2813715636730194, 0.9970687627792358, 0.9938682317733765, 0.3447895646095276, 0.051954593509435654, 0.604562520980835, 0.8678876757621765, 0.13077759742736816, 0.1844833791255951, 0.8117268681526184, 0.1298818439245224, 0.198430597782135, 0.21165931224822998, 0.4377499222755432, 0.021646974608302116, 0.984670877456665, 0.9881303906440735, 0.22910748422145844, 0.7702965140342712, 0.9919113516807556, 0.9968211054801941, 0.8655104041099548, 0.13213899731636047, 0.28989365696907043, 0.11688020080327988, 0.23452934622764587, 0.146100252866745, 0.21299877762794495, 0.9914279580116272, 0.9963547587394714, 0.07603083550930023, 0.47373056411743164, 0.2491471916437149, 0.11814022064208984, 0.08304906636476517, 0.3141508102416992, 0.0018699452048167586, 0.44504696130752563, 0.011219670996069908, 0.22813332080841064, 0.9976123571395874, 0.1869635134935379, 0.7478540539741516, 0.009944867342710495, 0.05370228365063667, 0.47286900877952576, 0.524267852306366, 0.9898315072059631, 0.994548499584198, 0.9961374402046204, 0.9978917241096497, 0.992684006690979, 0.9970718026161194, 0.43690434098243713, 0.0010604474227875471, 0.2078476995229721, 0.05408281832933426, 0.30010661482810974, 0.9874517917633057, 0.20458102226257324, 0.13797324895858765, 0.6565623879432678, 0.9769007563591003, 0.6121390461921692, 0.0918884202837944, 0.27431395649909973, 0.020269503816962242, 0.07095999270677567, 0.7902362942695618, 0.13761937618255615, 0.7020044922828674, 0.017333444207906723, 0.2802239954471588, 0.9935959577560425, 0.9969187378883362, 0.9801451563835144, 0.9937658905982971, 0.9902476072311401, 0.2558925449848175, 0.6795368194580078, 0.06539475917816162, 0.9932377934455872, 0.19119274616241455, 0.8072582483291626, 0.99642014503479, 0.7962532043457031, 0.20240889489650726, 0.9188546538352966, 0.07921160757541656, 0.08697908371686935, 0.9064135551452637, 0.04623749107122421, 0.12843747437000275, 0.8219998478889465, 0.07244999706745148, 0.922784149646759, 0.9919701218605042, 0.9963854551315308, 0.9897980690002441, 0.2585652768611908, 0.23100247979164124, 0.5092554688453674, 0.9809378385543823, 0.9538537263870239, 0.04286983236670494, 0.018897131085395813, 0.020615052431821823, 0.9585999250411987, 0.9842300415039062, 0.9952000975608826, 0.9929695129394531, 0.9971739649772644, 0.07078398019075394, 0.8615421056747437, 0.06673917919397354, 0.992409348487854, 0.987816572189331, 0.5124632120132446, 0.10996221005916595, 0.1559821516275406, 0.17101378738880157, 0.05076068267226219, 0.9935315847396851, 0.08801266551017761, 0.9079201221466064, 0.027154680341482162, 0.9685168862342834, 0.9971520900726318, 0.017613492906093597, 0.6709139347076416, 0.19374841451644897, 0.11688953638076782, 0.18646696209907532, 0.7991441488265991, 0.011416344903409481, 0.22458507120609283, 0.34780874848365784, 0.1361422836780548, 0.2096789926290512, 0.08148662000894547, 0.18398931622505188, 0.6328117251396179, 0.18120159208774567, 0.221973717212677, 0.6258931159973145, 0.1419176161289215, 0.009097283706068993, 0.12386467307806015, 0.4943223297595978, 0.06704601645469666, 0.1909106969833374, 0.12386467307806015, 0.7111590504646301, 0.2867576777935028, 0.9970340132713318, 0.10220179706811905, 0.36065441370010376, 0.030463997274637222, 0.19457650184631348, 0.31151893734931946, 0.18676672875881195, 0.8121523261070251, 0.9978435635566711, 0.9990646243095398, 0.9615753889083862, 0.03142403066158295, 0.9822786450386047, 0.9564363956451416, 0.04103522375226021, 0.9919750690460205, 0.9942574501037598, 0.9977776408195496, 0.8735146522521973, 0.09513526409864426, 0.03171175345778465, 0.9988016486167908, 0.9941725134849548, 0.06129083409905434, 0.2743494510650635, 0.6654433608055115, 0.9853456616401672, 0.9976620674133301, 0.2945901155471802, 0.6379657983779907, 0.026269180700182915, 0.04128014296293259, 0.302568256855011, 0.4450603127479553, 0.08246348798274994, 0.08973968029022217, 0.08003809303045273, 0.9933333396911621, 0.9954149723052979, 0.992542028427124, 0.08348770439624786, 0.912606954574585, 0.1959218978881836, 0.8034316301345825, 0.888593316078186, 0.06948398798704147, 0.0026724610943347216, 0.03875068575143814, 0.38642236590385437, 0.42207443714141846, 0.0161009319126606, 0.04025232791900635, 0.13570785522460938, 0.19561336934566498, 0.4874931573867798, 0.06084037944674492, 0.13169246912002563, 0.12399115413427353, 0.036828067153692245, 0.6764734387397766, 0.0600878968834877, 0.09497763961553574, 0.13180570304393768, 0.9974396824836731, 0.012544369325041771, 0.9868237376213074, 0.27447935938835144, 0.7236273884773254, 0.9940454363822937, 0.992938756942749, 0.09343966096639633, 0.9043623805046082, 0.9805425405502319, 0.9860824346542358, 0.18250462412834167, 0.022401290014386177, 0.502711296081543, 0.2925344705581665, 0.998547375202179, 0.9939516186714172, 0.9961475133895874, 0.07617542147636414, 0.01269590388983488, 0.9141050577163696, 0.990230917930603, 0.9842719435691833, 0.9970314502716064, 0.8146693706512451, 0.18103763461112976, 0.003232815070077777, 0.9976707696914673, 0.5339950919151306, 0.2127024382352829, 0.04142099991440773, 0.2115829586982727, 0.3081410825252533, 0.20265133678913116, 0.17489087581634521, 0.06246102973818779, 0.2512321472167969, 0.996616542339325, 0.06203379109501839, 0.03249388933181763, 0.871427059173584, 0.03544788062572479, 0.14025776088237762, 0.4548546373844147, 0.08651413768529892, 0.15860925614833832, 0.15860925614833832, 0.08163715153932571, 0.9180834293365479, 0.9877585768699646, 0.9932031035423279, 0.13975846767425537, 0.8493015170097351, 0.3789066970348358, 0.18300138413906097, 0.14898189902305603, 0.07390440255403519, 0.21584779024124146, 0.12632423639297485, 0.8702336549758911, 0.0036034691147506237, 0.46484750509262085, 0.1261214166879654, 0.19338618218898773, 0.21260467171669006, 0.7283896803855896, 0.03860309347510338, 0.07837598025798798, 0.09904228150844574, 0.05576002597808838, 0.050591517239809036, 0.4510483145713806, 0.08942584693431854, 0.3715982437133789, 0.0374092198908329], \"Term\": [\"accessible\", \"accuse\", \"actor\", \"add\", \"add\", \"add\", \"add\", \"add\", \"aid\", \"aid\", \"aircraft\", \"album\", \"allegation\", \"also\", \"also\", \"also\", \"also\", \"also\", \"anti\", \"apple\", \"apple\", \"art\", \"art\", \"ask\", \"ask\", \"ask\", \"ask\", \"auction\", \"award\", \"back\", \"back\", \"back\", \"back\", \"back\", \"ban\", \"band\", \"beat\", \"believe\", \"believe\", \"believe\", \"believe\", \"big\", \"big\", \"big\", \"big\", \"big\", \"blog\", \"bn\", \"bn\", \"broadband\", \"broadcast\", \"browser\", \"budget\", \"budget\", \"business\", \"business\", \"buy\", \"buy\", \"call\", \"call\", \"call\", \"call\", \"call\", \"camera\", \"campaign\", \"cancel\", \"career\", \"case\", \"case\", \"case\", \"category\", \"ceremony\", \"championship\", \"chance\", \"chance\", \"chance\", \"change\", \"change\", \"change\", \"change\", \"change\", \"channel\", \"charge\", \"charge\", \"chart\", \"claim\", \"claim\", \"claim\", \"claim\", \"coach\", \"com\", \"come\", \"come\", \"come\", \"come\", \"come\", \"comedy\", \"company\", \"company\", \"complaint\", \"computer\", \"computer\", \"connection\", \"conservative\", \"console\", \"construction\", \"content\", \"content\", \"continue\", \"continue\", \"continue\", \"continue\", \"copy\", \"cost\", \"cost\", \"cost\", \"could\", \"could\", \"could\", \"could\", \"could\", \"council\", \"country\", \"country\", \"country\", \"country\", \"court\", \"court\", \"create\", \"create\", \"create\", \"create\", \"create\", \"creative\", \"creative\", \"creditor\", \"crime\", \"currency\", \"customer\", \"cut\", \"cut\", \"cut\", \"data\", \"debate\", \"debt\", \"decision\", \"decision\", \"decision\", \"decision\", \"deny\", \"device\", \"digital\", \"directive\", \"discuss\", \"distribute\", \"documentary\", \"dollar\", \"domain\", \"donation\", \"draft\", \"earning\", \"ebber\", \"economic\", \"economist\", \"economy\", \"election\", \"election\", \"emcee\", \"engine\", \"entertainment\", \"entertainment\", \"episode\", \"expect\", \"expect\", \"expect\", \"expect\", \"expect\", \"export\", \"fall\", \"fall\", \"fall\", \"figure\", \"figure\", \"figure\", \"file\", \"file\", \"film\", \"film\", \"final\", \"final\", \"final\", \"finish\", \"firm\", \"firm\", \"first\", \"first\", \"first\", \"first\", \"first\", \"forecast\", \"format\", \"fraud\", \"fund\", \"fund\", \"gadget\", \"game\", \"game\", \"gamer\", \"gaming\", \"get\", \"get\", \"get\", \"get\", \"get\", \"give\", \"give\", \"give\", \"give\", \"give\", \"go\", \"go\", \"go\", \"go\", \"go\", \"goal\", \"goal\", \"good\", \"good\", \"good\", \"good\", \"good\", \"government\", \"government\", \"graphic\", \"group\", \"group\", \"group\", \"group\", \"group\", \"growth\", \"growth\", \"high\", \"high\", \"high\", \"high\", \"high\", \"however\", \"however\", \"however\", \"however\", \"however\", \"image\", \"image\", \"image\", \"immigration\", \"include\", \"include\", \"include\", \"include\", \"include\", \"income\", \"increase\", \"increase\", \"increase\", \"industry\", \"industry\", \"industry\", \"infect\", \"inflation\", \"information\", \"information\", \"information\", \"injury\", \"interactive\", \"internet\", \"internet\", \"invention\", \"investment\", \"investment\", \"irregularity\", \"issue\", \"issue\", \"issue\", \"issue\", \"job\", \"job\", \"job\", \"job\", \"keyboard\", \"labour\", \"labour\", \"last\", \"last\", \"last\", \"last\", \"law\", \"lawyer\", \"library\", \"lion\", \"listener\", \"love\", \"love\", \"low\", \"low\", \"low\", \"machine\", \"machine\", \"mail\", \"mail\", \"make\", \"make\", \"make\", \"make\", \"make\", \"many\", \"many\", \"many\", \"many\", \"many\", \"map\", \"market\", \"market\", \"market\", \"match\", \"matter\", \"medium\", \"medium\", \"medium\", \"minister\", \"minister\", \"mobile\", \"mobile\", \"month\", \"month\", \"month\", \"month\", \"month\", \"mortgage\", \"mouse\", \"music\", \"music\", \"musical\", \"net\", \"network\", \"network\", \"new\", \"new\", \"new\", \"new\", \"new\", \"nominate\", \"nomination\", \"number\", \"number\", \"number\", \"number\", \"number\", \"offer\", \"offer\", \"offer\", \"offer\", \"offer\", \"oil\", \"old\", \"old\", \"old\", \"old\", \"online\", \"online\", \"operator\", \"own\", \"parliament\", \"party\", \"patent\", \"pension\", \"people\", \"people\", \"people\", \"people\", \"people\", \"photo\", \"picture\", \"picture\", \"picture\", \"pilot\", \"plan\", \"plan\", \"plan\", \"plan\", \"play\", \"play\", \"play\", \"player\", \"player\", \"player\", \"police\", \"politic\", \"portable\", \"poverty\", \"press\", \"price\", \"price\", \"price\", \"prize\", \"profit\", \"profit\", \"program\", \"public\", \"public\", \"question\", \"question\", \"race\", \"race\", \"radio\", \"radio\", \"radio\", \"rate\", \"rate\", \"recovery\", \"refuse\", \"relationship\", \"report\", \"report\", \"report\", \"reserve\", \"respond\", \"respond\", \"rise\", \"rise\", \"rise\", \"robot\", \"roddick\", \"rugby\", \"rule\", \"sale\", \"sale\", \"sale\", \"satellite\", \"saving\", \"say\", \"say\", \"say\", \"say\", \"say\", \"score\", \"screen\", \"screen\", \"search\", \"search\", \"season\", \"second\", \"second\", \"second\", \"second\", \"security\", \"security\", \"security\", \"see\", \"see\", \"see\", \"see\", \"see\", \"sell\", \"sell\", \"sell\", \"service\", \"service\", \"service\", \"service\", \"set\", \"set\", \"set\", \"set\", \"set\", \"share\", \"share\", \"shareholder\", \"show\", \"show\", \"show\", \"show\", \"show\", \"side\", \"side\", \"singer\", \"site\", \"situation\", \"situation\", \"sky\", \"software\", \"software\", \"spam\", \"spanish\", \"spending\", \"spokesman\", \"spokesman\", \"spokesman\", \"star\", \"storage\", \"strong\", \"strong\", \"strong\", \"subsidy\", \"suspend\", \"system\", \"system\", \"system\", \"system\", \"take\", \"take\", \"take\", \"take\", \"take\", \"takeover\", \"tax\", \"taxis\", \"team\", \"team\", \"technology\", \"technology\", \"tell\", \"tell\", \"tell\", \"tell\", \"think\", \"think\", \"think\", \"think\", \"think\", \"time\", \"time\", \"time\", \"time\", \"time\", \"top\", \"top\", \"top\", \"top\", \"top\", \"tory\", \"tour\", \"tour\", \"trade\", \"trade\", \"traffic\", \"trust\", \"tv\", \"tv\", \"unemployment\", \"update\", \"use\", \"use\", \"use\", \"use\", \"user\", \"victim\", \"victory\", \"video\", \"video\", \"video\", \"viewer\", \"virtual\", \"virus\", \"vote\", \"vote\", \"vote\", \"voter\", \"want\", \"want\", \"want\", \"want\", \"way\", \"way\", \"way\", \"way\", \"way\", \"web\", \"website\", \"website\", \"website\", \"website\", \"well\", \"well\", \"well\", \"well\", \"well\", \"win\", \"win\", \"window\", \"winner\", \"wireless\", \"wireless\", \"work\", \"work\", \"work\", \"work\", \"work\", \"worker\", \"worker\", \"world\", \"world\", \"world\", \"world\", \"world\", \"would\", \"would\", \"would\", \"would\", \"would\", \"year\", \"year\", \"year\", \"year\", \"year\"]}, \"R\": 30, \"lambda.step\": 0.01, \"plot.opts\": {\"xlab\": \"PC1\", \"ylab\": \"PC2\"}, \"topic.order\": [3, 5, 1, 4, 2]};\n",
       "\n",
       "function LDAvis_load_lib(url, callback){\n",
       "  var s = document.createElement('script');\n",
       "  s.src = url;\n",
       "  s.async = true;\n",
       "  s.onreadystatechange = s.onload = callback;\n",
       "  s.onerror = function(){console.warn(\"failed to load library \" + url);};\n",
       "  document.getElementsByTagName(\"head\")[0].appendChild(s);\n",
       "}\n",
       "\n",
       "if(typeof(LDAvis) !== \"undefined\"){\n",
       "   // already loaded: just create the visualization\n",
       "   !function(LDAvis){\n",
       "       new LDAvis(\"#\" + \"ldavis_el463451038676088847609837\", ldavis_el463451038676088847609837_data);\n",
       "   }(LDAvis);\n",
       "}else if(typeof define === \"function\" && define.amd){\n",
       "   // require.js is available: use it to load d3/LDAvis\n",
       "   require.config({paths: {d3: \"https://cdnjs.cloudflare.com/ajax/libs/d3/3.5.5/d3.min\"}});\n",
       "   require([\"d3\"], function(d3){\n",
       "      window.d3 = d3;\n",
       "      LDAvis_load_lib(\"https://cdn.rawgit.com/bmabey/pyLDAvis/files/ldavis.v1.0.0.js\", function(){\n",
       "        new LDAvis(\"#\" + \"ldavis_el463451038676088847609837\", ldavis_el463451038676088847609837_data);\n",
       "      });\n",
       "    });\n",
       "}else{\n",
       "    // require.js not available: dynamically load d3 & LDAvis\n",
       "    LDAvis_load_lib(\"https://cdnjs.cloudflare.com/ajax/libs/d3/3.5.5/d3.min.js\", function(){\n",
       "         LDAvis_load_lib(\"https://cdn.rawgit.com/bmabey/pyLDAvis/files/ldavis.v1.0.0.js\", function(){\n",
       "                 new LDAvis(\"#\" + \"ldavis_el463451038676088847609837\", ldavis_el463451038676088847609837_data);\n",
       "            })\n",
       "         });\n",
       "}\n",
       "</script>"
      ],
      "text/plain": [
       "PreparedData(topic_coordinates=              x         y  topics  cluster       Freq\n",
       "topic                                                \n",
       "2      0.002397 -0.094318       1        1  29.148411\n",
       "4      0.175686 -0.115825       2        1  25.719189\n",
       "0     -0.140245  0.126519       3        1  17.388575\n",
       "3     -0.159834 -0.099765       4        1  16.786442\n",
       "1      0.121996  0.183389       5        1  10.957385, topic_info=     Category         Freq     Term        Total  loglift  logprob\n",
       "12    Default   912.000000     firm   912.000000  30.0000  30.0000\n",
       "7     Default  1023.000000  company  1023.000000  29.0000  29.0000\n",
       "1232  Default   807.000000    music   807.000000  28.0000  28.0000\n",
       "78    Default  1101.000000     game  1101.000000  27.0000  27.0000\n",
       "208   Default  1517.000000      use  1517.000000  26.0000  26.0000\n",
       "...       ...          ...      ...          ...      ...      ...\n",
       "135    Topic5   230.053940     also  2049.959717   0.0239  -5.0879\n",
       "606    Topic5   184.147568     work   852.452576   0.6788  -5.3104\n",
       "131    Topic5   176.569214    world   832.531067   0.6604  -5.3525\n",
       "412    Topic5   171.855728      get  1187.110352   0.2785  -5.3795\n",
       "600    Topic5   160.616425     time  1298.479736   0.1212  -5.4471\n",
       "\n",
       "[355 rows x 6 columns], token_table=      Topic      Freq        Term\n",
       "term                             \n",
       "1189      5  0.989791  accessible\n",
       "378       1  0.994484      accuse\n",
       "3007      2  0.997270       actor\n",
       "56        1  0.356862         add\n",
       "56        2  0.289467         add\n",
       "...     ...       ...         ...\n",
       "54        1  0.050592        year\n",
       "54        2  0.451048        year\n",
       "54        3  0.089426        year\n",
       "54        4  0.371598        year\n",
       "54        5  0.037409        year\n",
       "\n",
       "[614 rows x 3 columns], R=30, lambda_step=0.01, plot_opts={'xlab': 'PC1', 'ylab': 'PC2'}, topic_order=[3, 5, 1, 4, 2])"
      ]
     },
     "execution_count": 14,
     "metadata": {},
     "output_type": "execute_result"
    }
   ],
   "source": [
    "# Visualize the topics\n",
    "pyLDAvis.enable_notebook()\n",
    "vis = pyLDAvis.gensim.prepare(lda_model, corpus, id2word)\n",
    "vis"
   ]
  },
  {
   "cell_type": "code",
   "execution_count": null,
   "metadata": {},
   "outputs": [],
   "source": []
  }
 ],
 "metadata": {
  "kernelspec": {
   "display_name": "venv_nlp",
   "language": "python",
   "name": "venv_nlp"
  },
  "language_info": {
   "codemirror_mode": {
    "name": "ipython",
    "version": 3
   },
   "file_extension": ".py",
   "mimetype": "text/x-python",
   "name": "python",
   "nbconvert_exporter": "python",
   "pygments_lexer": "ipython3",
   "version": "3.6.4"
  }
 },
 "nbformat": 4,
 "nbformat_minor": 2
}
